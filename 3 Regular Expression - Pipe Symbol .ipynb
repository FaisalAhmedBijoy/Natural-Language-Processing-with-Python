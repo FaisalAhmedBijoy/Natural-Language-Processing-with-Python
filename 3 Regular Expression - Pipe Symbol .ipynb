{
 "cells": [
  {
   "cell_type": "code",
   "execution_count": 1,
   "metadata": {},
   "outputs": [],
   "source": [
    "import re"
   ]
  },
  {
   "cell_type": "markdown",
   "metadata": {},
   "source": [
    "## Meta Character: | (Pipe Symbol)\n",
    "- | : works similiar like logical OR\n",
    "- Go (es|ing): Goes, Going\n",
    "- S (a|u|i) ng: Sing, Sung, Sang\n"
   ]
  },
  {
   "cell_type": "markdown",
   "metadata": {},
   "source": [
    "### Example: Two string\n"
   ]
  },
  {
   "cell_type": "code",
   "execution_count": 2,
   "metadata": {},
   "outputs": [
    {
     "name": "stdout",
     "output_type": "stream",
     "text": [
      "Match \n"
     ]
    }
   ],
   "source": [
    "pattern=\"Go(es|ing)\"\n",
    "text='Goes'\n",
    "if re.match(pattern, text):\n",
    "    print(\"Match \")\n",
    "else:\n",
    "    print(\"Not Match\")\n"
   ]
  },
  {
   "cell_type": "code",
   "execution_count": 3,
   "metadata": {},
   "outputs": [
    {
     "name": "stdout",
     "output_type": "stream",
     "text": [
      "Match \n"
     ]
    }
   ],
   "source": [
    "pattern=\"Go(es|ing)\"\n",
    "text='Going'\n",
    "if re.match(pattern, text):\n",
    "    print(\"Match \")\n",
    "else:\n",
    "    print(\"Not Match\")\n"
   ]
  },
  {
   "cell_type": "code",
   "execution_count": 13,
   "metadata": {},
   "outputs": [
    {
     "name": "stdout",
     "output_type": "stream",
     "text": [
      "Not Match\n"
     ]
    }
   ],
   "source": [
    "pattern=\"Go(es|ing)\"\n",
    "text='Go'\n",
    "if re.match(pattern, text):\n",
    "    print(\"Match \")\n",
    "else:\n",
    "    print(\"Not Match\")\n"
   ]
  },
  {
   "cell_type": "markdown",
   "metadata": {},
   "source": [
    "### Example: Multiple String\n"
   ]
  },
  {
   "cell_type": "code",
   "execution_count": 5,
   "metadata": {},
   "outputs": [
    {
     "name": "stdout",
     "output_type": "stream",
     "text": [
      "Match \n"
     ]
    }
   ],
   "source": [
    "pattern=\"S(a|u|i)ng\"\n",
    "text=\"Sing\"\n",
    "if re.match(pattern, text):\n",
    "    print(\"Match \")\n",
    "else:\n",
    "    print(\"Not Match\")\n"
   ]
  },
  {
   "cell_type": "code",
   "execution_count": 6,
   "metadata": {},
   "outputs": [
    {
     "name": "stdout",
     "output_type": "stream",
     "text": [
      "Match \n"
     ]
    }
   ],
   "source": [
    "pattern=\"S(a|u|i)ng\"\n",
    "text=\"Sung\"\n",
    "if re.match(pattern, text):\n",
    "    print(\"Match \")\n",
    "else:\n",
    "    print(\"Not Match\")\n"
   ]
  },
  {
   "cell_type": "code",
   "execution_count": 7,
   "metadata": {},
   "outputs": [
    {
     "name": "stdout",
     "output_type": "stream",
     "text": [
      "Match \n"
     ]
    }
   ],
   "source": [
    "pattern=\"S(a|u|i)ng\"\n",
    "text=\"Sang\"\n",
    "if re.match(pattern, text):\n",
    "    print(\"Match \")\n",
    "else:\n",
    "    print(\"Not Match\")\n"
   ]
  },
  {
   "cell_type": "code",
   "execution_count": 8,
   "metadata": {},
   "outputs": [
    {
     "name": "stdout",
     "output_type": "stream",
     "text": [
      "Not Match\n"
     ]
    }
   ],
   "source": [
    "pattern=\"S(a|u|i)ng\"\n",
    "text=\"Sng\"\n",
    "if re.match(pattern, text):\n",
    "    print(\"Match \")\n",
    "else:\n",
    "    print(\"Not Match\")\n"
   ]
  },
  {
   "cell_type": "markdown",
   "metadata": {},
   "source": [
    "### Example: Multiple String with star \n"
   ]
  },
  {
   "cell_type": "code",
   "execution_count": 9,
   "metadata": {},
   "outputs": [
    {
     "name": "stdout",
     "output_type": "stream",
     "text": [
      "Match \n"
     ]
    }
   ],
   "source": [
    "pattern=\"S(a|u|i)*ng\"\n",
    "text=\"Sng\"\n",
    "if re.match(pattern, text):\n",
    "    print(\"Match \")\n",
    "else:\n",
    "    print(\"Not Match\")\n"
   ]
  },
  {
   "cell_type": "markdown",
   "metadata": {},
   "source": [
    "## Example: Sentence or word"
   ]
  },
  {
   "cell_type": "code",
   "execution_count": 10,
   "metadata": {},
   "outputs": [
    {
     "name": "stdout",
     "output_type": "stream",
     "text": [
      "Match \n"
     ]
    }
   ],
   "source": [
    "pattern=\"(Faisal|Bijoy)\"\n",
    "text=\"Faisal\"\n",
    "if re.match(pattern, text):\n",
    "    print(\"Match \")\n",
    "else:\n",
    "    print(\"Not Match\")\n"
   ]
  },
  {
   "cell_type": "code",
   "execution_count": 11,
   "metadata": {},
   "outputs": [
    {
     "name": "stdout",
     "output_type": "stream",
     "text": [
      "Match \n"
     ]
    }
   ],
   "source": [
    "pattern=\"(Faisal|Bijoy)\"\n",
    "text=\"Bijoy\"\n",
    "if re.match(pattern, text):\n",
    "    print(\"Match \")\n",
    "else:\n",
    "    print(\"Not Match\")\n"
   ]
  },
  {
   "cell_type": "code",
   "execution_count": 15,
   "metadata": {},
   "outputs": [
    {
     "name": "stdout",
     "output_type": "stream",
     "text": [
      "Not Match\n"
     ]
    }
   ],
   "source": [
    "# Not correct: choose l or B\n",
    "pattern=\"(Faisal|Bijoy)\"\n",
    "text=\"FaisaBijoy\"\n",
    "if re.match(pattern, text):\n",
    "    print(\"Match \")\n",
    "else:\n",
    "    print(\"Not Match\")\n"
   ]
  }
 ],
 "metadata": {
  "kernelspec": {
   "display_name": "Python 3",
   "language": "python",
   "name": "python3"
  },
  "language_info": {
   "codemirror_mode": {
    "name": "ipython",
    "version": 3
   },
   "file_extension": ".py",
   "mimetype": "text/x-python",
   "name": "python",
   "nbconvert_exporter": "python",
   "pygments_lexer": "ipython3",
   "version": "3.8.5"
  }
 },
 "nbformat": 4,
 "nbformat_minor": 4
}
