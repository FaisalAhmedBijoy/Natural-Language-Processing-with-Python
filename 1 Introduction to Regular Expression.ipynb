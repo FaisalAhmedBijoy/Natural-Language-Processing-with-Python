{
 "cells": [
  {
   "cell_type": "markdown",
   "metadata": {},
   "source": [
    "## Regular Expression\n",
    "- library: <b>re<b/>\n",
    "- pattern: any kind of string\n"
   ]
  },
  {
   "cell_type": "code",
   "execution_count": 29,
   "metadata": {},
   "outputs": [],
   "source": [
    "import re\n",
    "pattern=\"Faisal\"\n",
    "result = re.match(pattern, \"Faisal Ahmed Bijoy\")"
   ]
  },
  {
   "cell_type": "code",
   "execution_count": 31,
   "metadata": {},
   "outputs": [
    {
     "data": {
      "text/plain": [
       "<re.Match object; span=(0, 6), match='Faisal'>"
      ]
     },
     "execution_count": 31,
     "metadata": {},
     "output_type": "execute_result"
    }
   ],
   "source": [
    "result"
   ]
  },
  {
   "cell_type": "code",
   "execution_count": 32,
   "metadata": {},
   "outputs": [
    {
     "name": "stdout",
     "output_type": "stream",
     "text": [
      "Match \n"
     ]
    }
   ],
   "source": [
    "if result:\n",
    "    print(\"Match \")\n",
    "else:\n",
    "    print(\"Not Match\")"
   ]
  },
  {
   "cell_type": "markdown",
   "metadata": {},
   "source": [
    "## Meta Characters\n",
    "- . (dot): match any character"
   ]
  },
  {
   "cell_type": "code",
   "execution_count": 36,
   "metadata": {},
   "outputs": [
    {
     "name": "stdout",
     "output_type": "stream",
     "text": [
      "<re.Match object; span=(0, 5), match='Bijoy'>\n"
     ]
    }
   ],
   "source": [
    "pattern='Bij.y'\n",
    "result=re.match(pattern, \"Bijoy\")\n",
    "print(result)"
   ]
  },
  {
   "cell_type": "code",
   "execution_count": 38,
   "metadata": {},
   "outputs": [
    {
     "name": "stdout",
     "output_type": "stream",
     "text": [
      "<re.Match object; span=(0, 5), match='BijXy'>\n"
     ]
    }
   ],
   "source": [
    "pattern='Bij.y'\n",
    "result=re.match(pattern, \"BijXy\")\n",
    "print(result)"
   ]
  },
  {
   "cell_type": "code",
   "execution_count": 37,
   "metadata": {},
   "outputs": [
    {
     "name": "stdout",
     "output_type": "stream",
     "text": [
      "None\n"
     ]
    }
   ],
   "source": [
    "pattern='Bij.y'\n",
    "result=re.match(pattern, \"joy\")\n",
    "print(result)"
   ]
  },
  {
   "cell_type": "markdown",
   "metadata": {},
   "source": [
    "## Character Class Set : []\n",
    "- [aeiou]: match any vowel\n",
    "- [0-9]: match any digit\n",
    "- [a-z]: match any lower case \n",
    "- [A-Z]: match any upper case "
   ]
  },
  {
   "cell_type": "code",
   "execution_count": 41,
   "metadata": {},
   "outputs": [
    {
     "name": "stdout",
     "output_type": "stream",
     "text": [
      "Vowel Found\n"
     ]
    }
   ],
   "source": [
    "pattern = \"[aeiou]\"\n",
    "if re.search(pattern, \"Faisal\"):\n",
    "       print(\"Vowel Found\")\n",
    "else:\n",
    "       print(\"Not found\")   "
   ]
  },
  {
   "cell_type": "code",
   "execution_count": 42,
   "metadata": {},
   "outputs": [
    {
     "name": "stdout",
     "output_type": "stream",
     "text": [
      "Not found\n"
     ]
    }
   ],
   "source": [
    "pattern = \"[aeiou]\"\n",
    "if re.search(pattern, \"XYZ\"):\n",
    "       print(\"Vowel Found\")\n",
    "else:\n",
    "       print(\"Not found\")   "
   ]
  },
  {
   "cell_type": "code",
   "execution_count": 43,
   "metadata": {},
   "outputs": [
    {
     "name": "stdout",
     "output_type": "stream",
     "text": [
      "Digit Found\n"
     ]
    }
   ],
   "source": [
    "pattern = \"[0-9]\"\n",
    "if re.search(pattern, \"123456\"):\n",
    "       print(\"Digit Found\")\n",
    "else:\n",
    "       print(\"Not found\")   "
   ]
  },
  {
   "cell_type": "code",
   "execution_count": 47,
   "metadata": {},
   "outputs": [
    {
     "name": "stdout",
     "output_type": "stream",
     "text": [
      "Digit Found\n"
     ]
    }
   ],
   "source": [
    "pattern = \"[0-9]\"\n",
    "if re.search(pattern, \"Faisal48\"):\n",
    "       print(\"Digit Found\")\n",
    "else:\n",
    "       print(\"Not found\")   "
   ]
  },
  {
   "cell_type": "code",
   "execution_count": 48,
   "metadata": {},
   "outputs": [
    {
     "name": "stdout",
     "output_type": "stream",
     "text": [
      "Not found\n"
     ]
    }
   ],
   "source": [
    "pattern = \"[0-9]\"\n",
    "if re.search(pattern, \"Faisal\"):\n",
    "       print(\"Digit Found\")\n",
    "else:\n",
    "       print(\"Not found\")   "
   ]
  }
 ],
 "metadata": {
  "kernelspec": {
   "display_name": "Python 3",
   "language": "python",
   "name": "python3"
  },
  "language_info": {
   "codemirror_mode": {
    "name": "ipython",
    "version": 3
   },
   "file_extension": ".py",
   "mimetype": "text/x-python",
   "name": "python",
   "nbconvert_exporter": "python",
   "pygments_lexer": "ipython3",
   "version": "3.8.5"
  }
 },
 "nbformat": 4,
 "nbformat_minor": 4
}
