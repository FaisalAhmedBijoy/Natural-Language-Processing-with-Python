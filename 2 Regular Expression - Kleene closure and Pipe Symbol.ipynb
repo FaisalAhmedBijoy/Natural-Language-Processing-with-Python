{
 "cells": [
  {
   "cell_type": "markdown",
   "metadata": {},
   "source": [
    "## Kleenee closer\n",
    "\n",
    "- \"*\" : 0 or more\n",
    "- \"+\" : 1 or more\n",
    "- New (s)* : New, News, Newss, Newssss, Newssssss\n",
    "- New (s)+ : News, Newss, Newssss, Newssssss\n"
   ]
  },
  {
   "cell_type": "code",
   "execution_count": 1,
   "metadata": {},
   "outputs": [],
   "source": [
    "import re"
   ]
  },
  {
   "cell_type": "markdown",
   "metadata": {},
   "source": [
    "### Example: Star\n"
   ]
  },
  {
   "cell_type": "code",
   "execution_count": 2,
   "metadata": {},
   "outputs": [
    {
     "name": "stdout",
     "output_type": "stream",
     "text": [
      "Match \n"
     ]
    }
   ],
   "source": [
    "pattern=\"New(s)*\"\n",
    "if re.match(pattern, \"New\"):\n",
    "    print(\"Match \")\n",
    "else:\n",
    "    print(\"Not Match\")\n"
   ]
  },
  {
   "cell_type": "code",
   "execution_count": 3,
   "metadata": {},
   "outputs": [
    {
     "name": "stdout",
     "output_type": "stream",
     "text": [
      "Match \n"
     ]
    }
   ],
   "source": [
    "pattern=\"New(s)*\"\n",
    "if re.match(pattern, \"Newssssssss\"):\n",
    "    print(\"Match \")\n",
    "else:\n",
    "    print(\"Not Match\")\n"
   ]
  },
  {
   "cell_type": "code",
   "execution_count": 4,
   "metadata": {},
   "outputs": [
    {
     "name": "stdout",
     "output_type": "stream",
     "text": [
      "Match \n"
     ]
    }
   ],
   "source": [
    "pattern=\"New(s)*\"\n",
    "if re.match(pattern, \"News\"):\n",
    "    print(\"Match \")\n",
    "else:\n",
    "    print(\"Not Match\")\n"
   ]
  },
  {
   "cell_type": "code",
   "execution_count": 5,
   "metadata": {},
   "outputs": [
    {
     "name": "stdout",
     "output_type": "stream",
     "text": [
      "Not Match\n"
     ]
    }
   ],
   "source": [
    "pattern=\"New(s)*\"\n",
    "if re.match(pattern, \"N\"):\n",
    "    print(\"Match \")\n",
    "else:\n",
    "    print(\"Not Match\")\n"
   ]
  },
  {
   "cell_type": "markdown",
   "metadata": {},
   "source": [
    "### Example: Plus\n"
   ]
  },
  {
   "cell_type": "code",
   "execution_count": 6,
   "metadata": {},
   "outputs": [
    {
     "name": "stdout",
     "output_type": "stream",
     "text": [
      "Not Match\n"
     ]
    }
   ],
   "source": [
    "pattern=\"New(s)+\"\n",
    "if re.match(pattern, \"New\"):\n",
    "    print(\"Match \")\n",
    "else:\n",
    "    print(\"Not Match\")\n"
   ]
  },
  {
   "cell_type": "code",
   "execution_count": 7,
   "metadata": {},
   "outputs": [
    {
     "name": "stdout",
     "output_type": "stream",
     "text": [
      "Match \n"
     ]
    }
   ],
   "source": [
    "pattern=\"New(s)+\"\n",
    "if re.match(pattern, \"News\"):\n",
    "    print(\"Match \")\n",
    "else:\n",
    "    print(\"Not Match\")\n"
   ]
  },
  {
   "cell_type": "markdown",
   "metadata": {},
   "source": [
    "## Meta Character: | (Pipe Symbol)\n",
    "- | : works similiar like logical OR\n",
    "- Go (es|ing): Goes, Going\n",
    "- S (a|u|i) ng: Sing, Sung, Sang\n"
   ]
  },
  {
   "cell_type": "markdown",
   "metadata": {},
   "source": [
    "### Example: Two string\n"
   ]
  },
  {
   "cell_type": "code",
   "execution_count": 10,
   "metadata": {},
   "outputs": [
    {
     "name": "stdout",
     "output_type": "stream",
     "text": [
      "Match \n"
     ]
    }
   ],
   "source": [
    "pattern=\"Go(es|ing)\"\n",
    "if re.match(pattern, \"Goes\"):\n",
    "    print(\"Match \")\n",
    "else:\n",
    "    print(\"Not Match\")\n"
   ]
  },
  {
   "cell_type": "code",
   "execution_count": 11,
   "metadata": {},
   "outputs": [
    {
     "name": "stdout",
     "output_type": "stream",
     "text": [
      "Match \n"
     ]
    }
   ],
   "source": [
    "pattern=\"Go(es|ing)\"\n",
    "if re.match(pattern, \"Going\"):\n",
    "    print(\"Match \")\n",
    "else:\n",
    "    print(\"Not Match\")\n"
   ]
  },
  {
   "cell_type": "code",
   "execution_count": 12,
   "metadata": {},
   "outputs": [
    {
     "name": "stdout",
     "output_type": "stream",
     "text": [
      "Not Match\n"
     ]
    }
   ],
   "source": [
    "pattern=\"Go(es|ing)\"\n",
    "if re.match(pattern, \"Go\"):\n",
    "    print(\"Match \")\n",
    "else:\n",
    "    print(\"Not Match\")\n"
   ]
  },
  {
   "cell_type": "markdown",
   "metadata": {},
   "source": [
    "### Example: Multiple String\n"
   ]
  },
  {
   "cell_type": "code",
   "execution_count": 18,
   "metadata": {},
   "outputs": [
    {
     "name": "stdout",
     "output_type": "stream",
     "text": [
      "Match \n"
     ]
    }
   ],
   "source": [
    "pattern=\"S(a|u|i)ng\"\n",
    "if re.match(pattern, \"Sing\"):\n",
    "    print(\"Match \")\n",
    "else:\n",
    "    print(\"Not Match\")\n"
   ]
  },
  {
   "cell_type": "code",
   "execution_count": 21,
   "metadata": {},
   "outputs": [
    {
     "name": "stdout",
     "output_type": "stream",
     "text": [
      "Match \n"
     ]
    }
   ],
   "source": [
    "pattern=\"S(a|u|i)ng\"\n",
    "if re.match(pattern, \"Sung\"):\n",
    "    print(\"Match \")\n",
    "else:\n",
    "    print(\"Not Match\")\n"
   ]
  },
  {
   "cell_type": "code",
   "execution_count": 22,
   "metadata": {},
   "outputs": [
    {
     "name": "stdout",
     "output_type": "stream",
     "text": [
      "Match \n"
     ]
    }
   ],
   "source": [
    "pattern=\"S(a|u|i)ng\"\n",
    "if re.match(pattern, \"Sang\"):\n",
    "    print(\"Match \")\n",
    "else:\n",
    "    print(\"Not Match\")\n"
   ]
  },
  {
   "cell_type": "code",
   "execution_count": 23,
   "metadata": {},
   "outputs": [
    {
     "name": "stdout",
     "output_type": "stream",
     "text": [
      "Not Match\n"
     ]
    }
   ],
   "source": [
    "pattern=\"S(a|u|i)ng\"\n",
    "if re.match(pattern, \"Sng\"):\n",
    "    print(\"Match \")\n",
    "else:\n",
    "    print(\"Not Match\")\n"
   ]
  },
  {
   "cell_type": "markdown",
   "metadata": {},
   "source": [
    "### Example: Multiple String with star \n"
   ]
  },
  {
   "cell_type": "code",
   "execution_count": 25,
   "metadata": {},
   "outputs": [
    {
     "name": "stdout",
     "output_type": "stream",
     "text": [
      "Match \n"
     ]
    }
   ],
   "source": [
    "pattern=\"S(a|u|i)*ng\"\n",
    "if re.match(pattern, \"Sng\"):\n",
    "    print(\"Match \")\n",
    "else:\n",
    "    print(\"Not Match\")\n"
   ]
  }
 ],
 "metadata": {
  "kernelspec": {
   "display_name": "Python 3",
   "language": "python",
   "name": "python3"
  },
  "language_info": {
   "codemirror_mode": {
    "name": "ipython",
    "version": 3
   },
   "file_extension": ".py",
   "mimetype": "text/x-python",
   "name": "python",
   "nbconvert_exporter": "python",
   "pygments_lexer": "ipython3",
   "version": "3.8.5"
  }
 },
 "nbformat": 4,
 "nbformat_minor": 4
}
