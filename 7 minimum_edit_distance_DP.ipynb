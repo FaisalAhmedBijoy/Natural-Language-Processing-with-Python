{
 "cells": [
  {
   "cell_type": "markdown",
   "metadata": {},
   "source": [
    "## import library"
   ]
  },
  {
   "cell_type": "code",
   "execution_count": 10,
   "metadata": {},
   "outputs": [],
   "source": [
    "import numpy as np"
   ]
  },
  {
   "cell_type": "markdown",
   "metadata": {},
   "source": [
    "## Input Texts"
   ]
  },
  {
   "cell_type": "code",
   "execution_count": 11,
   "metadata": {},
   "outputs": [],
   "source": [
    "text1='deal'\n",
    "text2='leda'"
   ]
  },
  {
   "cell_type": "markdown",
   "metadata": {},
   "source": [
    "## Initialize the algorithm"
   ]
  },
  {
   "cell_type": "code",
   "execution_count": 12,
   "metadata": {},
   "outputs": [
    {
     "name": "stdout",
     "output_type": "stream",
     "text": [
      "[[0. 1. 2. 3. 4.]\n",
      " [1. 0. 0. 0. 0.]\n",
      " [2. 0. 0. 0. 0.]\n",
      " [3. 0. 0. 0. 0.]\n",
      " [4. 0. 0. 0. 0.]]\n"
     ]
    }
   ],
   "source": [
    "dist=np.zeros((len(text1)+1,len(text2)+1))\n",
    "dist[0,:]=np.arange(len(text2)+1)\n",
    "dist[:,0]=np.arange(len(text1)+1)\n",
    "print(dist)"
   ]
  },
  {
   "cell_type": "markdown",
   "metadata": {},
   "source": [
    "## Dynamic programming to calculate minimum edit distance"
   ]
  },
  {
   "cell_type": "code",
   "execution_count": 13,
   "metadata": {},
   "outputs": [
    {
     "name": "stdout",
     "output_type": "stream",
     "text": [
      "[[0. 1. 2. 3. 4.]\n",
      " [1. 2. 3. 2. 3.]\n",
      " [2. 3. 2. 3. 4.]\n",
      " [3. 4. 3. 4. 3.]\n",
      " [4. 3. 4. 5. 4.]]\n"
     ]
    }
   ],
   "source": [
    "for i in range(1,len(text1)+1):\n",
    "    for j in range(1,len(text2)+1):\n",
    "        if text1[i-1]==text2[j-1]:\n",
    "            dist[i,j]=dist[i-1,j-1]\n",
    "        else:\n",
    "            dist[i,j]=min(  dist[i-1,j] +1 ,\n",
    "                            dist[i,j-1] +1 ,\n",
    "                            dist[i-1,j-1] + 2)\n",
    "print(dist)"
   ]
  },
  {
   "cell_type": "markdown",
   "metadata": {},
   "source": [
    "## Results"
   ]
  },
  {
   "cell_type": "code",
   "execution_count": 14,
   "metadata": {},
   "outputs": [
    {
     "name": "stdout",
     "output_type": "stream",
     "text": [
      "Minimum Edit Distance Cost:  4.0\n"
     ]
    }
   ],
   "source": [
    "print('Minimum Edit Distance Cost: ',dist[-1,-1])"
   ]
  },
  {
   "cell_type": "code",
   "execution_count": 15,
   "metadata": {},
   "outputs": [
    {
     "data": {
      "text/plain": [
       "array([[0., 1., 2., 3., 4.],\n",
       "       [1., 2., 3., 4., 3.],\n",
       "       [2., 3., 2., 3., 4.],\n",
       "       [3., 2., 3., 4., 5.],\n",
       "       [4., 3., 4., 3., 4.]])"
      ]
     },
     "execution_count": 15,
     "metadata": {},
     "output_type": "execute_result"
    }
   ],
   "source": [
    "# transpose the dist\n",
    "np.transpose(dist)"
   ]
  }
 ],
 "metadata": {
  "kernelspec": {
   "display_name": "Python 3.8.13 ('tf-gpu')",
   "language": "python",
   "name": "python3"
  },
  "language_info": {
   "codemirror_mode": {
    "name": "ipython",
    "version": 3
   },
   "file_extension": ".py",
   "mimetype": "text/x-python",
   "name": "python",
   "nbconvert_exporter": "python",
   "pygments_lexer": "ipython3",
   "version": "3.8.13"
  },
  "orig_nbformat": 4,
  "vscode": {
   "interpreter": {
    "hash": "a42308a4b3b8692f798b54dd71ed0fc43b4ea9aee117f0b02f20461fbf01c221"
   }
  }
 },
 "nbformat": 4,
 "nbformat_minor": 2
}
