{
 "cells": [
  {
   "cell_type": "markdown",
   "metadata": {},
   "source": [
    "## Kleenee closure and star\n",
    "\n",
    "\n",
    "- \"*\" : 0 or more\n",
    "- \"+\" : 1 or more\n",
    "- New (s)* : New, News, Newss, Newssss, Newssssss\n",
    "- New (s)+ : News, Newss, Newssss, Newssssss\n"
   ]
  },
  {
   "cell_type": "code",
   "execution_count": 1,
   "metadata": {},
   "outputs": [],
   "source": [
    "import re"
   ]
  },
  {
   "cell_type": "markdown",
   "metadata": {},
   "source": [
    "### Example: Star\n"
   ]
  },
  {
   "cell_type": "code",
   "execution_count": 2,
   "metadata": {},
   "outputs": [
    {
     "name": "stdout",
     "output_type": "stream",
     "text": [
      "Match \n"
     ]
    }
   ],
   "source": [
    "pattern=\"New(s)*\"\n",
    "if re.match(pattern, \"New\"):\n",
    "    print(\"Match \")\n",
    "else:\n",
    "    print(\"Not Match\")\n"
   ]
  },
  {
   "cell_type": "code",
   "execution_count": 3,
   "metadata": {},
   "outputs": [
    {
     "name": "stdout",
     "output_type": "stream",
     "text": [
      "Match \n"
     ]
    }
   ],
   "source": [
    "pattern=\"New(s)*\"\n",
    "if re.match(pattern, \"Newssssssss\"):\n",
    "    print(\"Match \")\n",
    "else:\n",
    "    print(\"Not Match\")\n"
   ]
  },
  {
   "cell_type": "code",
   "execution_count": 4,
   "metadata": {},
   "outputs": [
    {
     "name": "stdout",
     "output_type": "stream",
     "text": [
      "Match \n"
     ]
    }
   ],
   "source": [
    "pattern=\"New(s)*\"\n",
    "if re.match(pattern, \"News\"):\n",
    "    print(\"Match \")\n",
    "else:\n",
    "    print(\"Not Match\")\n"
   ]
  },
  {
   "cell_type": "code",
   "execution_count": 5,
   "metadata": {},
   "outputs": [
    {
     "name": "stdout",
     "output_type": "stream",
     "text": [
      "Not Match\n"
     ]
    }
   ],
   "source": [
    "pattern=\"New(s)*\"\n",
    "if re.match(pattern, \"N\"):\n",
    "    print(\"Match \")\n",
    "else:\n",
    "    print(\"Not Match\")\n"
   ]
  },
  {
   "cell_type": "markdown",
   "metadata": {},
   "source": [
    "### Example: Plus\n"
   ]
  },
  {
   "cell_type": "code",
   "execution_count": 6,
   "metadata": {},
   "outputs": [
    {
     "name": "stdout",
     "output_type": "stream",
     "text": [
      "Not Match\n"
     ]
    }
   ],
   "source": [
    "pattern=\"New(s)+\"\n",
    "if re.match(pattern, \"New\"):\n",
    "    print(\"Match \")\n",
    "else:\n",
    "    print(\"Not Match\")\n"
   ]
  },
  {
   "cell_type": "code",
   "execution_count": 7,
   "metadata": {},
   "outputs": [
    {
     "name": "stdout",
     "output_type": "stream",
     "text": [
      "Match \n"
     ]
    }
   ],
   "source": [
    "pattern=\"New(s)+\"\n",
    "if re.match(pattern, \"News\"):\n",
    "    print(\"Match \")\n",
    "else:\n",
    "    print(\"Not Match\")\n"
   ]
  },
  {
   "cell_type": "markdown",
   "metadata": {},
   "source": [
    "## Examples: Star or plus in middle \n",
    "- love\n",
    "- lovvvvvvvvvvvvvvvvvvvvvvvvvveeee\n",
    "- loveeeee"
   ]
  },
  {
   "cell_type": "code",
   "execution_count": 8,
   "metadata": {},
   "outputs": [
    {
     "name": "stdout",
     "output_type": "stream",
     "text": [
      "Match\n"
     ]
    }
   ],
   "source": [
    "pattern=\"lo(v)*e\"\n",
    "if re.match(pattern,'love'):\n",
    "    print(\"Match\")\n",
    "else:\n",
    "    print(\"Not Match\")"
   ]
  },
  {
   "cell_type": "code",
   "execution_count": 9,
   "metadata": {},
   "outputs": [
    {
     "name": "stdout",
     "output_type": "stream",
     "text": [
      "Match\n"
     ]
    }
   ],
   "source": [
    "pattern=\"lo(v)*e\"\n",
    "if re.match(pattern,'lovvvvvvvvvvvve'):\n",
    "    print(\"Match\")\n",
    "else:\n",
    "    print(\"Not Match\")"
   ]
  },
  {
   "cell_type": "code",
   "execution_count": 10,
   "metadata": {},
   "outputs": [
    {
     "name": "stdout",
     "output_type": "stream",
     "text": [
      "Match\n"
     ]
    }
   ],
   "source": [
    "pattern=\"lo(v)*e\"\n",
    "if re.match(pattern,'loe'):\n",
    "    print(\"Match\")\n",
    "else:\n",
    "    print(\"Not Match\")"
   ]
  },
  {
   "cell_type": "code",
   "execution_count": 11,
   "metadata": {},
   "outputs": [
    {
     "name": "stdout",
     "output_type": "stream",
     "text": [
      "Not Match\n"
     ]
    }
   ],
   "source": [
    "pattern=\"lo(v)*e\"\n",
    "if re.match(pattern,'lov'):\n",
    "    print(\"Match\")\n",
    "else:\n",
    "    print(\"Not Match\")"
   ]
  }
 ],
 "metadata": {
  "kernelspec": {
   "display_name": "Python 3",
   "language": "python",
   "name": "python3"
  },
  "language_info": {
   "codemirror_mode": {
    "name": "ipython",
    "version": 3
   },
   "file_extension": ".py",
   "mimetype": "text/x-python",
   "name": "python",
   "nbconvert_exporter": "python",
   "pygments_lexer": "ipython3",
   "version": "3.8.5"
  }
 },
 "nbformat": 4,
 "nbformat_minor": 4
}
