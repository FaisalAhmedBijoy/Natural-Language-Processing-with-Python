{
 "cells": [
  {
   "cell_type": "markdown",
   "metadata": {},
   "source": [
    "## References \n",
    "- https://machinelearningmastery.com/how-to-develop-lstm-models-for-time-series-forecasting/\n",
    "\n",
    "\n",
    "- https://machinelearningmastery.com/multivariate-time-series-forecasting-lstms-keras/\n",
    "\n"
   ]
  },
  {
   "cell_type": "markdown",
   "metadata": {},
   "source": [
    "## Multivariate LSTM Models\n",
    "Multivariate time series data means data where there is more than one observation for each time step.\n",
    "\n",
    "There are two main models that we may require with multivariate time series data; they are:\n",
    "\n",
    "- Multiple Input Series.\n",
    "- Multiple Parallel Series."
   ]
  },
  {
   "cell_type": "markdown",
   "metadata": {},
   "source": [
    "## Import Library"
   ]
  },
  {
   "cell_type": "code",
   "execution_count": 1,
   "metadata": {},
   "outputs": [],
   "source": [
    "import numpy as np"
   ]
  },
  {
   "cell_type": "markdown",
   "metadata": {},
   "source": [
    "## Multiple Input Series\n",
    "A problem may have two or more parallel input time series and an output time series that is dependent on the input time series.\n",
    "\n",
    "The input time series are parallel because each series has an observation at the same time steps.\n",
    "\n",
    "We can demonstrate this with a simple example of two parallel input time series where the output series is the simple addition of the input series"
   ]
  },
  {
   "cell_type": "code",
   "execution_count": 2,
   "metadata": {},
   "outputs": [
    {
     "data": {
      "text/plain": [
       "array([ 25,  45,  65,  85, 105, 125, 145, 165, 185])"
      ]
     },
     "execution_count": 2,
     "metadata": {},
     "output_type": "execute_result"
    }
   ],
   "source": [
    "input_sequence_1=np.array([10,20,30,40,50,60,70,80,90])\n",
    "input_sequence_2=np.array([15,25,35,45,55,65,75,85,95])\n",
    "output_sequence=np.array([input_sequence_1[i]+input_sequence_2[i] for i in range(len(input_sequence_1))])\n",
    "output_sequence"
   ]
  },
  {
   "cell_type": "code",
   "execution_count": 3,
   "metadata": {},
   "outputs": [
    {
     "name": "stdout",
     "output_type": "stream",
     "text": [
      "shape:  (9,)\n",
      "len:  9\n"
     ]
    }
   ],
   "source": [
    "print('shape: ',output_sequence.shape)\n",
    "print('len: ',len(output_sequence))"
   ]
  },
  {
   "cell_type": "markdown",
   "metadata": {},
   "source": [
    "We can reshape these three arrays of data as a single dataset where each row is a time step, and each column is a separate time series. This is a standard way of storing parallel time series in a CSV file."
   ]
  },
  {
   "cell_type": "code",
   "execution_count": 4,
   "metadata": {},
   "outputs": [
    {
     "name": "stdout",
     "output_type": "stream",
     "text": [
      "(9, 1)\n",
      "[[ 25]\n",
      " [ 45]\n",
      " [ 65]\n",
      " [ 85]\n",
      " [105]\n",
      " [125]\n",
      " [145]\n",
      " [165]\n",
      " [185]]\n"
     ]
    }
   ],
   "source": [
    "input_sequence_1_reshaped=input_sequence_1.reshape((len(input_sequence_1),1))\n",
    "input_sequence_2_reshaped=input_sequence_2.reshape((len(input_sequence_2),1))\n",
    "output_sequence_reshaped=output_sequence.reshape((len(output_sequence),1))\n",
    "print(output_sequence_reshaped.shape)\n",
    "print(output_sequence_reshaped)"
   ]
  },
  {
   "cell_type": "code",
   "execution_count": 5,
   "metadata": {},
   "outputs": [
    {
     "name": "stdout",
     "output_type": "stream",
     "text": [
      "(9, 3)\n",
      "[[ 10  15  25]\n",
      " [ 20  25  45]\n",
      " [ 30  35  65]\n",
      " [ 40  45  85]\n",
      " [ 50  55 105]\n",
      " [ 60  65 125]\n",
      " [ 70  75 145]\n",
      " [ 80  85 165]\n",
      " [ 90  95 185]]\n"
     ]
    }
   ],
   "source": [
    "# horizontall stack columns\n",
    "from numpy import hstack\n",
    "dataset=hstack((input_sequence_1_reshaped,input_sequence_2_reshaped,output_sequence_reshaped))\n",
    "print(dataset.shape)\n",
    "print(dataset)"
   ]
  },
  {
   "cell_type": "code",
   "execution_count": 6,
   "metadata": {},
   "outputs": [
    {
     "data": {
      "text/plain": [
       "array([ 25,  45,  65,  85, 105, 125, 145, 165, 185])"
      ]
     },
     "execution_count": 6,
     "metadata": {},
     "output_type": "execute_result"
    }
   ],
   "source": [
    "dataset[:,2]"
   ]
  },
  {
   "cell_type": "code",
   "execution_count": 7,
   "metadata": {},
   "outputs": [
    {
     "data": {
      "text/plain": [
       "array([[10, 15],\n",
       "       [20, 25],\n",
       "       [30, 35]])"
      ]
     },
     "execution_count": 7,
     "metadata": {},
     "output_type": "execute_result"
    }
   ],
   "source": [
    "dataset[0:3,:-1]"
   ]
  },
  {
   "cell_type": "code",
   "execution_count": 8,
   "metadata": {},
   "outputs": [
    {
     "data": {
      "text/plain": [
       "65"
      ]
     },
     "execution_count": 8,
     "metadata": {},
     "output_type": "execute_result"
    }
   ],
   "source": [
    "dataset[3-1,-1]"
   ]
  },
  {
   "cell_type": "markdown",
   "metadata": {},
   "source": [
    "We can define a function named split_sequences() that will take a dataset as we have defined it with rows for time steps and columns for parallel series and return input/output samples."
   ]
  },
  {
   "cell_type": "code",
   "execution_count": 9,
   "metadata": {},
   "outputs": [],
   "source": [
    "# split a multivariate sequence into samples\n",
    "def split_sequence(sequence,n_steps):\n",
    "    X,y=list(),list()\n",
    "    for i in range(len(sequence)):\n",
    "        # find the end of this pattern\n",
    "        end_ix=i+n_steps\n",
    "        # check if we are beyond the sequence\n",
    "        if end_ix>len(sequence):\n",
    "            break\n",
    "        # gather input and output parts of the pattern\n",
    "        seq_x,seq_y=sequence[i:end_ix,:-1],sequence[end_ix-1,-1]\n",
    "        X.append(seq_x)\n",
    "        y.append(seq_y)\n",
    "    return np.array(X),np.array(y)"
   ]
  },
  {
   "cell_type": "markdown",
   "metadata": {},
   "source": [
    "We can test this function on our dataset using three time steps for each input time series as input."
   ]
  },
  {
   "cell_type": "code",
   "execution_count": 10,
   "metadata": {},
   "outputs": [
    {
     "name": "stdout",
     "output_type": "stream",
     "text": [
      "[[10 15]\n",
      " [20 25]\n",
      " [30 35]] 65\n",
      "[[20 25]\n",
      " [30 35]\n",
      " [40 45]] 85\n",
      "[[30 35]\n",
      " [40 45]\n",
      " [50 55]] 105\n",
      "[[40 45]\n",
      " [50 55]\n",
      " [60 65]] 125\n",
      "[[50 55]\n",
      " [60 65]\n",
      " [70 75]] 145\n",
      "[[60 65]\n",
      " [70 75]\n",
      " [80 85]] 165\n",
      "[[70 75]\n",
      " [80 85]\n",
      " [90 95]] 185\n"
     ]
    }
   ],
   "source": [
    "n_steps=3\n",
    "X,y=split_sequence(dataset,n_steps)\n",
    "for i in range(len(X)):\n",
    "    print(X[i],y[i])"
   ]
  },
  {
   "cell_type": "code",
   "execution_count": 11,
   "metadata": {},
   "outputs": [
    {
     "name": "stdout",
     "output_type": "stream",
     "text": [
      "(7, 3, 2)\n"
     ]
    },
    {
     "data": {
      "text/plain": [
       "array([[[10, 15],\n",
       "        [20, 25],\n",
       "        [30, 35]],\n",
       "\n",
       "       [[20, 25],\n",
       "        [30, 35],\n",
       "        [40, 45]],\n",
       "\n",
       "       [[30, 35],\n",
       "        [40, 45],\n",
       "        [50, 55]],\n",
       "\n",
       "       [[40, 45],\n",
       "        [50, 55],\n",
       "        [60, 65]],\n",
       "\n",
       "       [[50, 55],\n",
       "        [60, 65],\n",
       "        [70, 75]],\n",
       "\n",
       "       [[60, 65],\n",
       "        [70, 75],\n",
       "        [80, 85]],\n",
       "\n",
       "       [[70, 75],\n",
       "        [80, 85],\n",
       "        [90, 95]]])"
      ]
     },
     "execution_count": 11,
     "metadata": {},
     "output_type": "execute_result"
    }
   ],
   "source": [
    "print(X.shape)\n",
    "X"
   ]
  },
  {
   "cell_type": "code",
   "execution_count": 12,
   "metadata": {},
   "outputs": [
    {
     "name": "stdout",
     "output_type": "stream",
     "text": [
      "(7,)\n"
     ]
    },
    {
     "data": {
      "text/plain": [
       "array([ 65,  85, 105, 125, 145, 165, 185])"
      ]
     },
     "execution_count": 12,
     "metadata": {},
     "output_type": "execute_result"
    }
   ],
   "source": [
    "print(y.shape)\n",
    "y"
   ]
  },
  {
   "cell_type": "markdown",
   "metadata": {},
   "source": [
    "We can see that the X component has a three-dimensional structure.\n",
    "\n",
    "The first dimension is the number of samples, in this case 7. The second dimension is the number of time steps per sample, in this case 3, the value specified to the function. Finally, the last dimension specifies the number of parallel time series or the number of variables, in this case 2 for the two parallel series.\n",
    "\n",
    "This is the exact three-dimensional structure expected by an LSTM as input. The data is ready to use without further reshaping."
   ]
  },
  {
   "cell_type": "markdown",
   "metadata": {},
   "source": [
    "We will use a Vanilla LSTM where the number of time steps and parallel series (features) are specified for the input layer via the input_shape argumen"
   ]
  },
  {
   "cell_type": "code",
   "execution_count": 20,
   "metadata": {},
   "outputs": [
    {
     "data": {
      "text/plain": [
       "(3, 2)"
      ]
     },
     "execution_count": 20,
     "metadata": {},
     "output_type": "execute_result"
    }
   ],
   "source": [
    "n_features=X.shape[2]\n",
    "n_steps=3\n",
    "input_shape=(n_steps,n_features)\n",
    "input_shape"
   ]
  },
  {
   "cell_type": "code",
   "execution_count": 16,
   "metadata": {},
   "outputs": [],
   "source": [
    "from tensorflow.keras.models import Sequential\n",
    "from tensorflow.keras.layers import LSTM\n",
    "from tensorflow.keras.layers import Dense\n"
   ]
  },
  {
   "cell_type": "code",
   "execution_count": 24,
   "metadata": {},
   "outputs": [
    {
     "name": "stdout",
     "output_type": "stream",
     "text": [
      "Model: \"sequential_3\"\n",
      "_________________________________________________________________\n",
      "Layer (type)                 Output Shape              Param #   \n",
      "=================================================================\n",
      "lstm_3 (LSTM)                (None, 50)                10600     \n",
      "_________________________________________________________________\n",
      "dense_3 (Dense)              (None, 1)                 51        \n",
      "=================================================================\n",
      "Total params: 10,651\n",
      "Trainable params: 10,651\n",
      "Non-trainable params: 0\n",
      "_________________________________________________________________\n"
     ]
    }
   ],
   "source": [
    "multiple_input_series_model=Sequential()\n",
    "multiple_input_series_model.add(LSTM(50,activation='relu',input_shape=input_shape))\n",
    "multiple_input_series_model.add(Dense(1))\n",
    "\n",
    "multiple_input_series_model.summary()"
   ]
  },
  {
   "cell_type": "code",
   "execution_count": 25,
   "metadata": {},
   "outputs": [],
   "source": [
    "multiple_input_series_model.compile(optimizer='adam',loss='mse')"
   ]
  },
  {
   "cell_type": "code",
   "execution_count": 28,
   "metadata": {},
   "outputs": [
    {
     "name": "stdout",
     "output_type": "stream",
     "text": [
      "Epoch 1/200\n",
      "7/7 [==============================] - 0s 712us/sample - loss: 0.0974\n",
      "Epoch 2/200\n",
      "7/7 [==============================] - 0s 997us/sample - loss: 0.0993\n",
      "Epoch 3/200\n",
      "7/7 [==============================] - 0s 712us/sample - loss: 0.0959\n",
      "Epoch 4/200\n",
      "7/7 [==============================] - 0s 712us/sample - loss: 0.0973\n",
      "Epoch 5/200\n",
      "7/7 [==============================] - 0s 1ms/sample - loss: 0.0947\n",
      "Epoch 6/200\n",
      "7/7 [==============================] - 0s 712us/sample - loss: 0.0951\n",
      "Epoch 7/200\n",
      "7/7 [==============================] - 0s 998us/sample - loss: 0.0936\n",
      "Epoch 8/200\n",
      "7/7 [==============================] - 0s 997us/sample - loss: 0.0930\n",
      "Epoch 9/200\n",
      "7/7 [==============================] - 0s 855us/sample - loss: 0.0924\n",
      "Epoch 10/200\n",
      "7/7 [==============================] - 0s 712us/sample - loss: 0.0912\n",
      "Epoch 11/200\n",
      "7/7 [==============================] - 0s 570us/sample - loss: 0.0911\n",
      "Epoch 12/200\n",
      "7/7 [==============================] - 0s 712us/sample - loss: 0.0895\n",
      "Epoch 13/200\n",
      "7/7 [==============================] - 0s 427us/sample - loss: 0.0896\n",
      "Epoch 14/200\n",
      "7/7 [==============================] - 0s 570us/sample - loss: 0.0880\n",
      "Epoch 15/200\n",
      "7/7 [==============================] - 0s 570us/sample - loss: 0.0880\n",
      "Epoch 16/200\n",
      "7/7 [==============================] - 0s 570us/sample - loss: 0.0866\n",
      "Epoch 17/200\n",
      "7/7 [==============================] - 0s 712us/sample - loss: 0.0864\n",
      "Epoch 18/200\n",
      "7/7 [==============================] - 0s 713us/sample - loss: 0.0852\n",
      "Epoch 19/200\n",
      "7/7 [==============================] - 0s 1ms/sample - loss: 0.0848\n",
      "Epoch 20/200\n",
      "7/7 [==============================] - 0s 998us/sample - loss: 0.0838\n",
      "Epoch 21/200\n",
      "7/7 [==============================] - 0s 855us/sample - loss: 0.0832\n",
      "Epoch 22/200\n",
      "7/7 [==============================] - 0s 3ms/sample - loss: 0.0824\n",
      "Epoch 23/200\n",
      "7/7 [==============================] - 0s 2ms/sample - loss: 0.0817\n",
      "Epoch 24/200\n",
      "7/7 [==============================] - 0s 4ms/sample - loss: 0.0810\n",
      "Epoch 25/200\n",
      "7/7 [==============================] - 0s 570us/sample - loss: 0.0802\n",
      "Epoch 26/200\n",
      "7/7 [==============================] - 0s 712us/sample - loss: 0.0796\n",
      "Epoch 27/200\n",
      "7/7 [==============================] - 0s 712us/sample - loss: 0.0788\n",
      "Epoch 28/200\n",
      "7/7 [==============================] - 0s 997us/sample - loss: 0.0782\n",
      "Epoch 29/200\n",
      "7/7 [==============================] - 0s 997us/sample - loss: 0.0774\n",
      "Epoch 30/200\n",
      "7/7 [==============================] - 0s 713us/sample - loss: 0.0775\n",
      "Epoch 31/200\n",
      "7/7 [==============================] - 0s 2ms/sample - loss: 0.0947\n",
      "Epoch 32/200\n",
      "7/7 [==============================] - 0s 855us/sample - loss: 0.0764\n",
      "Epoch 33/200\n",
      "7/7 [==============================] - 0s 698us/sample - loss: 0.0951\n",
      "Epoch 34/200\n",
      "7/7 [==============================] - 0s 570us/sample - loss: 0.0799\n",
      "Epoch 35/200\n",
      "7/7 [==============================] - 0s 712us/sample - loss: 0.0960\n",
      "Epoch 36/200\n",
      "7/7 [==============================] - 0s 855us/sample - loss: 0.0755\n",
      "Epoch 37/200\n",
      "7/7 [==============================] - 0s 570us/sample - loss: 0.0998\n",
      "Epoch 38/200\n",
      "7/7 [==============================] - 0s 712us/sample - loss: 0.0815\n",
      "Epoch 39/200\n",
      "7/7 [==============================] - 0s 570us/sample - loss: 0.0894\n",
      "Epoch 40/200\n",
      "7/7 [==============================] - 0s 712us/sample - loss: 0.0771\n",
      "Epoch 41/200\n",
      "7/7 [==============================] - 0s 570us/sample - loss: 0.0896\n",
      "Epoch 42/200\n",
      "7/7 [==============================] - 0s 570us/sample - loss: 0.0884\n",
      "Epoch 43/200\n",
      "7/7 [==============================] - 0s 570us/sample - loss: 0.0852\n",
      "Epoch 44/200\n",
      "7/7 [==============================] - 0s 570us/sample - loss: 0.0867\n",
      "Epoch 45/200\n",
      "7/7 [==============================] - 0s 712us/sample - loss: 0.0878\n",
      "Epoch 46/200\n",
      "7/7 [==============================] - 0s 715us/sample - loss: 0.0760\n",
      "Epoch 47/200\n",
      "7/7 [==============================] - 0s 997us/sample - loss: 0.0810\n",
      "Epoch 48/200\n",
      "7/7 [==============================] - 0s 712us/sample - loss: 0.0722\n",
      "Epoch 49/200\n",
      "7/7 [==============================] - 0s 855us/sample - loss: 0.0818\n",
      "Epoch 50/200\n",
      "7/7 [==============================] - 0s 855us/sample - loss: 0.0847\n",
      "Epoch 51/200\n",
      "7/7 [==============================] - 0s 855us/sample - loss: 0.0763\n",
      "Epoch 52/200\n",
      "7/7 [==============================] - 0s 855us/sample - loss: 0.0810\n",
      "Epoch 53/200\n",
      "7/7 [==============================] - 0s 712us/sample - loss: 0.0650\n",
      "Epoch 54/200\n",
      "7/7 [==============================] - 0s 570us/sample - loss: 0.0750\n",
      "Epoch 55/200\n",
      "7/7 [==============================] - 0s 712us/sample - loss: 0.0638\n",
      "Epoch 56/200\n",
      "7/7 [==============================] - 0s 712us/sample - loss: 0.0733\n",
      "Epoch 57/200\n",
      "7/7 [==============================] - 0s 570us/sample - loss: 0.0623\n",
      "Epoch 58/200\n",
      "7/7 [==============================] - 0s 570us/sample - loss: 0.0686\n",
      "Epoch 59/200\n",
      "7/7 [==============================] - 0s 1ms/sample - loss: 0.0613\n",
      "Epoch 60/200\n",
      "7/7 [==============================] - 0s 570us/sample - loss: 0.0661\n",
      "Epoch 61/200\n",
      "7/7 [==============================] - 0s 1ms/sample - loss: 0.0600\n",
      "Epoch 62/200\n",
      "7/7 [==============================] - 0s 1ms/sample - loss: 0.0638\n",
      "Epoch 63/200\n",
      "7/7 [==============================] - 0s 570us/sample - loss: 0.0588\n",
      "Epoch 64/200\n",
      "7/7 [==============================] - 0s 855us/sample - loss: 0.0619\n",
      "Epoch 65/200\n",
      "7/7 [==============================] - 0s 855us/sample - loss: 0.0575\n",
      "Epoch 66/200\n",
      "7/7 [==============================] - 0s 712us/sample - loss: 0.0599\n",
      "Epoch 67/200\n",
      "7/7 [==============================] - 0s 855us/sample - loss: 0.0562\n",
      "Epoch 68/200\n",
      "7/7 [==============================] - 0s 570us/sample - loss: 0.0582\n",
      "Epoch 69/200\n",
      "7/7 [==============================] - 0s 712us/sample - loss: 0.0550\n",
      "Epoch 70/200\n",
      "7/7 [==============================] - 0s 570us/sample - loss: 0.0566\n",
      "Epoch 71/200\n",
      "7/7 [==============================] - 0s 570us/sample - loss: 0.0538\n",
      "Epoch 72/200\n",
      "7/7 [==============================] - 0s 570us/sample - loss: 0.0551\n",
      "Epoch 73/200\n",
      "7/7 [==============================] - 0s 570us/sample - loss: 0.0526\n",
      "Epoch 74/200\n",
      "7/7 [==============================] - 0s 712us/sample - loss: 0.0537\n",
      "Epoch 75/200\n",
      "7/7 [==============================] - 0s 570us/sample - loss: 0.0515\n",
      "Epoch 76/200\n",
      "7/7 [==============================] - 0s 712us/sample - loss: 0.0522\n",
      "Epoch 77/200\n",
      "7/7 [==============================] - 0s 712us/sample - loss: 0.0504\n",
      "Epoch 78/200\n",
      "7/7 [==============================] - 0s 427us/sample - loss: 0.0508\n",
      "Epoch 79/200\n",
      "7/7 [==============================] - 0s 570us/sample - loss: 0.0493\n",
      "Epoch 80/200\n",
      "7/7 [==============================] - 0s 1ms/sample - loss: 0.0508\n",
      "Epoch 81/200\n",
      "7/7 [==============================] - 0s 712us/sample - loss: 0.0635\n",
      "Epoch 82/200\n",
      "7/7 [==============================] - 0s 712us/sample - loss: 0.0479\n",
      "Epoch 83/200\n",
      "7/7 [==============================] - 0s 712us/sample - loss: 0.0624\n",
      "Epoch 84/200\n",
      "7/7 [==============================] - 0s 570us/sample - loss: 0.0522\n",
      "Epoch 85/200\n",
      "7/7 [==============================] - 0s 712us/sample - loss: 0.0549\n",
      "Epoch 86/200\n",
      "7/7 [==============================] - 0s 570us/sample - loss: 0.0561\n",
      "Epoch 87/200\n",
      "7/7 [==============================] - 0s 427us/sample - loss: 0.0555\n",
      "Epoch 88/200\n",
      "7/7 [==============================] - 0s 855us/sample - loss: 0.0507\n",
      "Epoch 89/200\n",
      "7/7 [==============================] - 0s 570us/sample - loss: 0.0480\n",
      "Epoch 90/200\n",
      "7/7 [==============================] - 0s 570us/sample - loss: 0.0501\n",
      "Epoch 91/200\n",
      "7/7 [==============================] - 0s 998us/sample - loss: 0.0451\n",
      "Epoch 92/200\n",
      "7/7 [==============================] - 0s 570us/sample - loss: 0.0489\n",
      "Epoch 93/200\n",
      "7/7 [==============================] - 0s 570us/sample - loss: 0.0430\n",
      "Epoch 94/200\n",
      "7/7 [==============================] - 0s 855us/sample - loss: 0.0489\n",
      "Epoch 95/200\n",
      "7/7 [==============================] - 0s 570us/sample - loss: 0.0483\n",
      "Epoch 96/200\n",
      "7/7 [==============================] - 0s 856us/sample - loss: 0.0437\n",
      "Epoch 97/200\n",
      "7/7 [==============================] - 0s 997us/sample - loss: 0.0479\n",
      "Epoch 98/200\n",
      "7/7 [==============================] - 0s 570us/sample - loss: 0.0427\n",
      "Epoch 99/200\n",
      "7/7 [==============================] - 0s 712us/sample - loss: 0.0439\n",
      "Epoch 100/200\n",
      "7/7 [==============================] - 0s 712us/sample - loss: 0.0429\n",
      "Epoch 101/200\n",
      "7/7 [==============================] - 0s 570us/sample - loss: 0.0421\n",
      "Epoch 102/200\n",
      "7/7 [==============================] - 0s 570us/sample - loss: 0.0441\n",
      "Epoch 103/200\n",
      "7/7 [==============================] - 0s 570us/sample - loss: 0.0385\n",
      "Epoch 104/200\n",
      "7/7 [==============================] - 0s 570us/sample - loss: 0.0429\n",
      "Epoch 105/200\n",
      "7/7 [==============================] - 0s 570us/sample - loss: 0.0371\n",
      "Epoch 106/200\n",
      "7/7 [==============================] - 0s 570us/sample - loss: 0.0411\n",
      "Epoch 107/200\n",
      "7/7 [==============================] - 0s 570us/sample - loss: 0.0364\n",
      "Epoch 108/200\n",
      "7/7 [==============================] - 0s 712us/sample - loss: 0.0389\n",
      "Epoch 109/200\n",
      "7/7 [==============================] - 0s 712us/sample - loss: 0.0361\n",
      "Epoch 110/200\n",
      "7/7 [==============================] - 0s 570us/sample - loss: 0.0366\n",
      "Epoch 111/200\n",
      "7/7 [==============================] - 0s 855us/sample - loss: 0.0359\n",
      "Epoch 112/200\n",
      "7/7 [==============================] - 0s 570us/sample - loss: 0.0346\n",
      "Epoch 113/200\n",
      "7/7 [==============================] - 0s 713us/sample - loss: 0.0353\n",
      "Epoch 114/200\n",
      "7/7 [==============================] - 0s 997us/sample - loss: 0.0331\n",
      "Epoch 115/200\n",
      "7/7 [==============================] - 0s 855us/sample - loss: 0.0344\n",
      "Epoch 116/200\n",
      "7/7 [==============================] - 0s 569us/sample - loss: 0.0322\n",
      "Epoch 117/200\n",
      "7/7 [==============================] - 0s 584us/sample - loss: 0.0330\n",
      "Epoch 118/200\n",
      "7/7 [==============================] - 0s 570us/sample - loss: 0.0316\n",
      "Epoch 119/200\n",
      "7/7 [==============================] - 0s 570us/sample - loss: 0.0316\n",
      "Epoch 120/200\n",
      "7/7 [==============================] - 0s 715us/sample - loss: 0.0311\n",
      "Epoch 121/200\n",
      "7/7 [==============================] - 0s 570us/sample - loss: 0.0302\n",
      "Epoch 122/200\n",
      "7/7 [==============================] - 0s 570us/sample - loss: 0.0313\n",
      "Epoch 123/200\n",
      "7/7 [==============================] - 0s 570us/sample - loss: 0.0381\n",
      "Epoch 124/200\n",
      "7/7 [==============================] - 0s 712us/sample - loss: 0.0291\n",
      "Epoch 125/200\n",
      "7/7 [==============================] - 0s 570us/sample - loss: 0.0359\n",
      "Epoch 126/200\n",
      "7/7 [==============================] - 0s 570us/sample - loss: 0.0391\n",
      "Epoch 127/200\n",
      "7/7 [==============================] - 0s 997us/sample - loss: 0.0289\n",
      "Epoch 128/200\n",
      "7/7 [==============================] - 0s 570us/sample - loss: 0.0399\n",
      "Epoch 129/200\n",
      "7/7 [==============================] - 0s 428us/sample - loss: 0.0287\n",
      "Epoch 130/200\n",
      "7/7 [==============================] - 0s 712us/sample - loss: 0.0377\n",
      "Epoch 131/200\n",
      "7/7 [==============================] - 0s 570us/sample - loss: 0.0289\n",
      "Epoch 132/200\n",
      "7/7 [==============================] - 0s 427us/sample - loss: 0.0315\n",
      "Epoch 133/200\n",
      "7/7 [==============================] - 0s 855us/sample - loss: 0.0313\n",
      "Epoch 134/200\n",
      "7/7 [==============================] - 0s 569us/sample - loss: 0.0265\n",
      "Epoch 135/200\n",
      "7/7 [==============================] - 0s 570us/sample - loss: 0.0336\n",
      "Epoch 136/200\n",
      "7/7 [==============================] - 0s 855us/sample - loss: 0.0285\n",
      "Epoch 137/200\n",
      "7/7 [==============================] - 0s 569us/sample - loss: 0.0266\n",
      "Epoch 138/200\n",
      "7/7 [==============================] - 0s 570us/sample - loss: 0.0308\n",
      "Epoch 139/200\n",
      "7/7 [==============================] - 0s 427us/sample - loss: 0.0264\n",
      "Epoch 140/200\n",
      "7/7 [==============================] - 0s 570us/sample - loss: 0.0255\n",
      "Epoch 141/200\n",
      "7/7 [==============================] - 0s 570us/sample - loss: 0.0277\n",
      "Epoch 142/200\n",
      "7/7 [==============================] - 0s 427us/sample - loss: 0.0228\n",
      "Epoch 143/200\n",
      "7/7 [==============================] - 0s 712us/sample - loss: 0.0268\n",
      "Epoch 144/200\n",
      "7/7 [==============================] - 0s 427us/sample - loss: 0.0227\n",
      "Epoch 145/200\n",
      "7/7 [==============================] - 0s 570us/sample - loss: 0.0247\n",
      "Epoch 146/200\n",
      "7/7 [==============================] - 0s 855us/sample - loss: 0.0240\n",
      "Epoch 147/200\n",
      "7/7 [==============================] - 0s 427us/sample - loss: 0.0215\n",
      "Epoch 148/200\n",
      "7/7 [==============================] - 0s 427us/sample - loss: 0.0238\n",
      "Epoch 149/200\n",
      "7/7 [==============================] - 0s 712us/sample - loss: 0.0206\n",
      "Epoch 150/200\n",
      "7/7 [==============================] - 0s 570us/sample - loss: 0.0220\n",
      "Epoch 151/200\n",
      "7/7 [==============================] - 0s 427us/sample - loss: 0.0210\n",
      "Epoch 152/200\n",
      "7/7 [==============================] - 0s 427us/sample - loss: 0.0200\n",
      "Epoch 153/200\n",
      "7/7 [==============================] - 0s 712us/sample - loss: 0.0210\n",
      "Epoch 154/200\n",
      "7/7 [==============================] - 0s 427us/sample - loss: 0.0190\n",
      "Epoch 155/200\n",
      "7/7 [==============================] - 0s 428us/sample - loss: 0.0198\n",
      "Epoch 156/200\n",
      "7/7 [==============================] - 0s 1ms/sample - loss: 0.0189\n",
      "Epoch 157/200\n",
      "7/7 [==============================] - 0s 855us/sample - loss: 0.0183\n",
      "Epoch 158/200\n",
      "7/7 [==============================] - 0s 428us/sample - loss: 0.0188\n",
      "Epoch 159/200\n",
      "7/7 [==============================] - 0s 570us/sample - loss: 0.0175\n",
      "Epoch 160/200\n",
      "7/7 [==============================] - 0s 712us/sample - loss: 0.0179\n",
      "Epoch 161/200\n",
      "7/7 [==============================] - 0s 712us/sample - loss: 0.0175\n",
      "Epoch 162/200\n",
      "7/7 [==============================] - 0s 855us/sample - loss: 0.0220\n",
      "Epoch 163/200\n",
      "7/7 [==============================] - 0s 570us/sample - loss: 0.0172\n",
      "Epoch 164/200\n",
      "7/7 [==============================] - 0s 712us/sample - loss: 0.0186\n",
      "Epoch 165/200\n",
      "7/7 [==============================] - 0s 855us/sample - loss: 0.0190\n",
      "Epoch 166/200\n",
      "7/7 [==============================] - 0s 427us/sample - loss: 0.0157\n",
      "Epoch 167/200\n",
      "7/7 [==============================] - 0s 713us/sample - loss: 0.0185\n",
      "Epoch 168/200\n",
      "7/7 [==============================] - 0s 712us/sample - loss: 0.0160\n",
      "Epoch 169/200\n",
      "7/7 [==============================] - 0s 570us/sample - loss: 0.0159\n",
      "Epoch 170/200\n",
      "7/7 [==============================] - 0s 571us/sample - loss: 0.0168\n",
      "Epoch 171/200\n",
      "7/7 [==============================] - 0s 712us/sample - loss: 0.0144\n",
      "Epoch 172/200\n",
      "7/7 [==============================] - 0s 570us/sample - loss: 0.0158\n",
      "Epoch 173/200\n",
      "7/7 [==============================] - 0s 570us/sample - loss: 0.0149\n",
      "Epoch 174/200\n",
      "7/7 [==============================] - 0s 855us/sample - loss: 0.0140\n",
      "Epoch 175/200\n",
      "7/7 [==============================] - 0s 570us/sample - loss: 0.0149\n",
      "Epoch 176/200\n",
      "7/7 [==============================] - 0s 570us/sample - loss: 0.0134\n",
      "Epoch 177/200\n",
      "7/7 [==============================] - 0s 712us/sample - loss: 0.0137\n",
      "Epoch 178/200\n",
      "7/7 [==============================] - 0s 427us/sample - loss: 0.0137\n",
      "Epoch 179/200\n",
      "7/7 [==============================] - 0s 427us/sample - loss: 0.0126\n",
      "Epoch 180/200\n",
      "7/7 [==============================] - 0s 712us/sample - loss: 0.0131\n",
      "Epoch 181/200\n",
      "7/7 [==============================] - 0s 568us/sample - loss: 0.0125\n",
      "Epoch 182/200\n",
      "7/7 [==============================] - 0s 570us/sample - loss: 0.0120\n",
      "Epoch 183/200\n",
      "7/7 [==============================] - 0s 712us/sample - loss: 0.0123\n",
      "Epoch 184/200\n",
      "7/7 [==============================] - 0s 712us/sample - loss: 0.0116\n",
      "Epoch 185/200\n",
      "7/7 [==============================] - 0s 570us/sample - loss: 0.0115\n",
      "Epoch 186/200\n",
      "7/7 [==============================] - 0s 570us/sample - loss: 0.0115\n",
      "Epoch 187/200\n",
      "7/7 [==============================] - 0s 712us/sample - loss: 0.0109\n",
      "Epoch 188/200\n",
      "7/7 [==============================] - 0s 570us/sample - loss: 0.0109\n",
      "Epoch 189/200\n",
      "7/7 [==============================] - 0s 712us/sample - loss: 0.0107\n",
      "Epoch 190/200\n",
      "7/7 [==============================] - 0s 855us/sample - loss: 0.0103\n",
      "Epoch 191/200\n",
      "7/7 [==============================] - 0s 427us/sample - loss: 0.0103\n",
      "Epoch 192/200\n",
      "7/7 [==============================] - 0s 713us/sample - loss: 0.0100\n",
      "Epoch 193/200\n",
      "7/7 [==============================] - 0s 712us/sample - loss: 0.0097\n",
      "Epoch 194/200\n",
      "7/7 [==============================] - 0s 570us/sample - loss: 0.0097\n",
      "Epoch 195/200\n",
      "7/7 [==============================] - 0s 570us/sample - loss: 0.0094\n",
      "Epoch 196/200\n",
      "7/7 [==============================] - 0s 427us/sample - loss: 0.0092\n",
      "Epoch 197/200\n",
      "7/7 [==============================] - 0s 570us/sample - loss: 0.0091\n",
      "Epoch 198/200\n",
      "7/7 [==============================] - 0s 570us/sample - loss: 0.0089\n",
      "Epoch 199/200\n",
      "7/7 [==============================] - 0s 712us/sample - loss: 0.0137\n",
      "Epoch 200/200\n",
      "7/7 [==============================] - 0s 568us/sample - loss: 0.0131\n"
     ]
    }
   ],
   "source": [
    "history=multiple_input_series_model.fit(X,y,epochs=200,verbose=1)"
   ]
  },
  {
   "cell_type": "code",
   "execution_count": 29,
   "metadata": {},
   "outputs": [
    {
     "data": {
      "text/plain": [
       "array([[[70, 75],\n",
       "        [80, 85],\n",
       "        [90, 95]]])"
      ]
     },
     "execution_count": 29,
     "metadata": {},
     "output_type": "execute_result"
    }
   ],
   "source": [
    "x_input=np.array([[70,75],[80,85],[90,95]])\n",
    "x_input_reshaped=x_input.reshape((1,n_steps,n_features))\n",
    "x_input_reshaped"
   ]
  },
  {
   "cell_type": "code",
   "execution_count": 30,
   "metadata": {},
   "outputs": [
    {
     "data": {
      "text/plain": [
       "array([[185.17955]], dtype=float32)"
      ]
     },
     "execution_count": 30,
     "metadata": {},
     "output_type": "execute_result"
    }
   ],
   "source": [
    "y_predicted_multiple_input_series_model=multiple_input_series_model.predict(x_input_reshaped,verbose=0)\n",
    "y_predicted_multiple_input_series_model"
   ]
  },
  {
   "cell_type": "code",
   "execution_count": 31,
   "metadata": {},
   "outputs": [
    {
     "name": "stdout",
     "output_type": "stream",
     "text": [
      "Expected: 185\n"
     ]
    }
   ],
   "source": [
    "print('Expected: %d' % (x_input[2,0]+x_input[2,1]))"
   ]
  },
  {
   "cell_type": "code",
   "execution_count": 33,
   "metadata": {},
   "outputs": [
    {
     "name": "stdout",
     "output_type": "stream",
     "text": [
      "input:\n",
      " [[70 75]\n",
      " [80 85]\n",
      " [90 95]]\n",
      "output: [[185.17955]]\n"
     ]
    }
   ],
   "source": [
    "print('input:\\n',x_input)\n",
    "print('output:',y_predicted_multiple_input_series_model)"
   ]
  },
  {
   "cell_type": "code",
   "execution_count": null,
   "metadata": {},
   "outputs": [],
   "source": []
  },
  {
   "cell_type": "markdown",
   "metadata": {},
   "source": [
    "## Multiple Parallel Series\n",
    "A problem may have two or more parallel input time series and an output time series that is dependent on the input time series.\n",
    "\n",
    "An alternate time series problem is the case where there are multiple parallel time series and a value must be predicted for each."
   ]
  },
  {
   "cell_type": "code",
   "execution_count": 35,
   "metadata": {},
   "outputs": [
    {
     "data": {
      "text/plain": [
       "array([[ 10,  15,  25],\n",
       "       [ 20,  25,  45],\n",
       "       [ 30,  35,  65],\n",
       "       [ 40,  45,  85],\n",
       "       [ 50,  55, 105],\n",
       "       [ 60,  65, 125],\n",
       "       [ 70,  75, 145],\n",
       "       [ 80,  85, 165],\n",
       "       [ 90,  95, 185]])"
      ]
     },
     "execution_count": 35,
     "metadata": {},
     "output_type": "execute_result"
    }
   ],
   "source": [
    "dataset"
   ]
  },
  {
   "cell_type": "markdown",
   "metadata": {},
   "source": [
    "We may want to predict the value for each of the three time series for the next time step.\n",
    "\n",
    "This might be referred to as multivariate forecasting.\n",
    "\n",
    "Again, the data must be split into input/output samples in order to train a model.\n",
    "\n",
    "The first sample of this dataset would be:"
   ]
  },
  {
   "cell_type": "code",
   "execution_count": 53,
   "metadata": {},
   "outputs": [
    {
     "name": "stdout",
     "output_type": "stream",
     "text": [
      "sample input: \n",
      " [[10 15 25]\n",
      " [20 25 45]\n",
      " [30 35 65]]\n",
      "sample output:  [40 45 85]\n"
     ]
    }
   ],
   "source": [
    "print('sample input: \\n',dataset[0:3])\n",
    "print('sample output: ',dataset[3,:])"
   ]
  },
  {
   "cell_type": "markdown",
   "metadata": {},
   "source": [
    "The split_sequences() function below will split multiple parallel time series with rows for time steps and one series per column into the required input/output shape"
   ]
  },
  {
   "cell_type": "code",
   "execution_count": 60,
   "metadata": {},
   "outputs": [],
   "source": [
    "# split a multivariate sequence into samples\n",
    "def split_sequence(sequence,n_steps):\n",
    "    X,y=list(),list()\n",
    "    for i in range(len(sequence)):\n",
    "        # find the end of this pattern\n",
    "        end_ix=i+n_steps\n",
    "  \n",
    "        # check if we are beyond the sequence\n",
    "        if end_ix>len(sequence)-1:\n",
    "            break\n",
    "        # gather input and output parts of the pattern\n",
    "        seq_x,seq_y=sequence[i:end_ix],sequence[end_ix]\n",
    "        X.append(seq_x)\n",
    "        y.append(seq_y)\n",
    "    return np.array(X),np.array(y)"
   ]
  },
  {
   "cell_type": "code",
   "execution_count": 62,
   "metadata": {},
   "outputs": [
    {
     "name": "stdout",
     "output_type": "stream",
     "text": [
      "[[10 15 25]\n",
      " [20 25 45]\n",
      " [30 35 65]] [40 45 85]\n",
      "[[20 25 45]\n",
      " [30 35 65]\n",
      " [40 45 85]] [ 50  55 105]\n",
      "[[ 30  35  65]\n",
      " [ 40  45  85]\n",
      " [ 50  55 105]] [ 60  65 125]\n",
      "[[ 40  45  85]\n",
      " [ 50  55 105]\n",
      " [ 60  65 125]] [ 70  75 145]\n",
      "[[ 50  55 105]\n",
      " [ 60  65 125]\n",
      " [ 70  75 145]] [ 80  85 165]\n",
      "[[ 60  65 125]\n",
      " [ 70  75 145]\n",
      " [ 80  85 165]] [ 90  95 185]\n"
     ]
    }
   ],
   "source": [
    "n_steps=3\n",
    "X,y=split_sequence(dataset,n_steps)\n",
    "for i in range(len(X)):\n",
    "    print(X[i],y[i])"
   ]
  },
  {
   "cell_type": "code",
   "execution_count": 65,
   "metadata": {},
   "outputs": [
    {
     "name": "stdout",
     "output_type": "stream",
     "text": [
      "(6, 3, 3)\n"
     ]
    },
    {
     "data": {
      "text/plain": [
       "array([[[ 10,  15,  25],\n",
       "        [ 20,  25,  45],\n",
       "        [ 30,  35,  65]],\n",
       "\n",
       "       [[ 20,  25,  45],\n",
       "        [ 30,  35,  65],\n",
       "        [ 40,  45,  85]],\n",
       "\n",
       "       [[ 30,  35,  65],\n",
       "        [ 40,  45,  85],\n",
       "        [ 50,  55, 105]],\n",
       "\n",
       "       [[ 40,  45,  85],\n",
       "        [ 50,  55, 105],\n",
       "        [ 60,  65, 125]],\n",
       "\n",
       "       [[ 50,  55, 105],\n",
       "        [ 60,  65, 125],\n",
       "        [ 70,  75, 145]],\n",
       "\n",
       "       [[ 60,  65, 125],\n",
       "        [ 70,  75, 145],\n",
       "        [ 80,  85, 165]]])"
      ]
     },
     "execution_count": 65,
     "metadata": {},
     "output_type": "execute_result"
    }
   ],
   "source": [
    "print(X.shape)\n",
    "X"
   ]
  },
  {
   "cell_type": "code",
   "execution_count": 66,
   "metadata": {},
   "outputs": [
    {
     "name": "stdout",
     "output_type": "stream",
     "text": [
      "(6, 3)\n"
     ]
    },
    {
     "data": {
      "text/plain": [
       "array([[ 40,  45,  85],\n",
       "       [ 50,  55, 105],\n",
       "       [ 60,  65, 125],\n",
       "       [ 70,  75, 145],\n",
       "       [ 80,  85, 165],\n",
       "       [ 90,  95, 185]])"
      ]
     },
     "execution_count": 66,
     "metadata": {},
     "output_type": "execute_result"
    }
   ],
   "source": [
    "print(y.shape)\n",
    "y"
   ]
  },
  {
   "cell_type": "code",
   "execution_count": 69,
   "metadata": {},
   "outputs": [
    {
     "data": {
      "text/plain": [
       "(3, 3)"
      ]
     },
     "execution_count": 69,
     "metadata": {},
     "output_type": "execute_result"
    }
   ],
   "source": [
    "n_steps=3\n",
    "n_features=X.shape[1]\n",
    "input_shape=(n_steps,n_features)\n",
    "input_shape"
   ]
  },
  {
   "cell_type": "markdown",
   "metadata": {},
   "source": [
    "We will use a Stacked LSTM where the number of time steps and parallel series (features) are specified for the input layer via the input_shape argument. The number of parallel series is also used in the specification of the number of values to predict by the model in the output layer"
   ]
  },
  {
   "cell_type": "code",
   "execution_count": 77,
   "metadata": {},
   "outputs": [
    {
     "name": "stdout",
     "output_type": "stream",
     "text": [
      "Model: \"sequential_6\"\n",
      "_________________________________________________________________\n",
      "Layer (type)                 Output Shape              Param #   \n",
      "=================================================================\n",
      "lstm_8 (LSTM)                (None, 3, 100)            41600     \n",
      "_________________________________________________________________\n",
      "lstm_9 (LSTM)                (None, 100)               80400     \n",
      "_________________________________________________________________\n",
      "dense_6 (Dense)              (None, 3)                 303       \n",
      "=================================================================\n",
      "Total params: 122,303\n",
      "Trainable params: 122,303\n",
      "Non-trainable params: 0\n",
      "_________________________________________________________________\n"
     ]
    }
   ],
   "source": [
    "multiple_input_parallel_series_model=Sequential()\n",
    "multiple_input_parallel_series_model.add(LSTM(100,activation='relu',return_sequences=True,input_shape=input_shape))\n",
    "multiple_input_parallel_series_model.add(LSTM(100,activation='relu'))\n",
    "multiple_input_parallel_series_model.add(Dense(n_features))\n",
    "\n",
    "multiple_input_parallel_series_model.summary()"
   ]
  },
  {
   "cell_type": "code",
   "execution_count": null,
   "metadata": {},
   "outputs": [],
   "source": []
  },
  {
   "cell_type": "code",
   "execution_count": 78,
   "metadata": {},
   "outputs": [],
   "source": [
    "multiple_input_parallel_series_model.compile(optimizer='adam',loss='mse')"
   ]
  },
  {
   "cell_type": "code",
   "execution_count": 79,
   "metadata": {},
   "outputs": [
    {
     "name": "stdout",
     "output_type": "stream",
     "text": [
      "Epoch 1/200\n",
      "6/6 [==============================] - 3s 448ms/sample - loss: 9608.4463\n",
      "Epoch 2/200\n",
      "6/6 [==============================] - 0s 997us/sample - loss: 9396.3164\n",
      "Epoch 3/200\n",
      "6/6 [==============================] - 0s 1ms/sample - loss: 9213.1562\n",
      "Epoch 4/200\n",
      "6/6 [==============================] - 0s 1ms/sample - loss: 9033.3057\n",
      "Epoch 5/200\n",
      "6/6 [==============================] - 0s 2ms/sample - loss: 8850.6729\n",
      "Epoch 6/200\n",
      "6/6 [==============================] - 0s 1ms/sample - loss: 8664.3145\n",
      "Epoch 7/200\n",
      "6/6 [==============================] - 0s 1ms/sample - loss: 8452.8496\n",
      "Epoch 8/200\n",
      "6/6 [==============================] - 0s 2ms/sample - loss: 8236.7979\n",
      "Epoch 9/200\n",
      "6/6 [==============================] - 0s 1ms/sample - loss: 8004.4341\n",
      "Epoch 10/200\n",
      "6/6 [==============================] - 0s 1ms/sample - loss: 7698.5210\n",
      "Epoch 11/200\n",
      "6/6 [==============================] - 0s 1ms/sample - loss: 7342.9858\n",
      "Epoch 12/200\n",
      "6/6 [==============================] - 0s 1ms/sample - loss: 6827.1499\n",
      "Epoch 13/200\n",
      "6/6 [==============================] - 0s 2ms/sample - loss: 6178.6499\n",
      "Epoch 14/200\n",
      "6/6 [==============================] - 0s 998us/sample - loss: 5510.2788\n",
      "Epoch 15/200\n",
      "6/6 [==============================] - 0s 1ms/sample - loss: 4844.3682\n",
      "Epoch 16/200\n",
      "6/6 [==============================] - 0s 2ms/sample - loss: 4151.2417\n",
      "Epoch 17/200\n",
      "6/6 [==============================] - 0s 1ms/sample - loss: 3397.4141\n",
      "Epoch 18/200\n",
      "6/6 [==============================] - 0s 2ms/sample - loss: 2629.9089\n",
      "Epoch 19/200\n",
      "6/6 [==============================] - 0s 1ms/sample - loss: 1878.8380\n",
      "Epoch 20/200\n",
      "6/6 [==============================] - 0s 1ms/sample - loss: 1184.1871\n",
      "Epoch 21/200\n",
      "6/6 [==============================] - 0s 1ms/sample - loss: 725.1821\n",
      "Epoch 22/200\n",
      "6/6 [==============================] - 0s 1ms/sample - loss: 561.3681\n",
      "Epoch 23/200\n",
      "6/6 [==============================] - 0s 1ms/sample - loss: 575.5882\n",
      "Epoch 24/200\n",
      "6/6 [==============================] - 0s 1ms/sample - loss: 650.4365\n",
      "Epoch 25/200\n",
      "6/6 [==============================] - 0s 2ms/sample - loss: 712.3135\n",
      "Epoch 26/200\n",
      "6/6 [==============================] - 0s 1ms/sample - loss: 711.4416\n",
      "Epoch 27/200\n",
      "6/6 [==============================] - 0s 1ms/sample - loss: 642.3134\n",
      "Epoch 28/200\n",
      "6/6 [==============================] - 0s 997us/sample - loss: 538.6594\n",
      "Epoch 29/200\n",
      "6/6 [==============================] - 0s 1ms/sample - loss: 428.9102\n",
      "Epoch 30/200\n",
      "6/6 [==============================] - 0s 1ms/sample - loss: 325.8020\n",
      "Epoch 31/200\n",
      "6/6 [==============================] - 0s 997us/sample - loss: 248.5063\n",
      "Epoch 32/200\n",
      "6/6 [==============================] - 0s 1ms/sample - loss: 204.1500\n",
      "Epoch 33/200\n",
      "6/6 [==============================] - 0s 997us/sample - loss: 184.8487\n",
      "Epoch 34/200\n",
      "6/6 [==============================] - 0s 996us/sample - loss: 177.5692\n",
      "Epoch 35/200\n",
      "6/6 [==============================] - 0s 831us/sample - loss: 169.9220\n",
      "Epoch 36/200\n",
      "6/6 [==============================] - 0s 1ms/sample - loss: 150.7127\n",
      "Epoch 37/200\n",
      "6/6 [==============================] - 0s 1ms/sample - loss: 120.3122\n",
      "Epoch 38/200\n",
      "6/6 [==============================] - 0s 2ms/sample - loss: 88.4160\n",
      "Epoch 39/200\n",
      "6/6 [==============================] - 0s 1ms/sample - loss: 69.8399\n",
      "Epoch 40/200\n",
      "6/6 [==============================] - 0s 997us/sample - loss: 59.9811\n",
      "Epoch 41/200\n",
      "6/6 [==============================] - 0s 3ms/sample - loss: 53.0690\n",
      "Epoch 42/200\n",
      "6/6 [==============================] - 0s 1ms/sample - loss: 32.8970\n",
      "Epoch 43/200\n",
      "6/6 [==============================] - 0s 997us/sample - loss: 23.3661\n",
      "Epoch 44/200\n",
      "6/6 [==============================] - 0s 831us/sample - loss: 26.5977\n",
      "Epoch 45/200\n",
      "6/6 [==============================] - 0s 997us/sample - loss: 27.1869\n",
      "Epoch 46/200\n",
      "6/6 [==============================] - 0s 997us/sample - loss: 23.9547\n",
      "Epoch 47/200\n",
      "6/6 [==============================] - 0s 1ms/sample - loss: 20.8095\n",
      "Epoch 48/200\n",
      "6/6 [==============================] - 0s 997us/sample - loss: 21.6208\n",
      "Epoch 49/200\n",
      "6/6 [==============================] - 0s 831us/sample - loss: 18.8834\n",
      "Epoch 50/200\n",
      "6/6 [==============================] - 0s 997us/sample - loss: 13.5821\n",
      "Epoch 51/200\n",
      "6/6 [==============================] - 0s 1ms/sample - loss: 11.4222\n",
      "Epoch 52/200\n",
      "6/6 [==============================] - 0s 1ms/sample - loss: 11.6157\n",
      "Epoch 53/200\n",
      "6/6 [==============================] - 0s 1ms/sample - loss: 10.4658\n",
      "Epoch 54/200\n",
      "6/6 [==============================] - 0s 1ms/sample - loss: 8.7616\n",
      "Epoch 55/200\n",
      "6/6 [==============================] - 0s 997us/sample - loss: 8.8776\n",
      "Epoch 56/200\n",
      "6/6 [==============================] - 0s 1ms/sample - loss: 9.0937\n",
      "Epoch 57/200\n",
      "6/6 [==============================] - 0s 831us/sample - loss: 7.3295\n",
      "Epoch 58/200\n",
      "6/6 [==============================] - 0s 997us/sample - loss: 5.7817\n",
      "Epoch 59/200\n",
      "6/6 [==============================] - 0s 997us/sample - loss: 5.3188\n",
      "Epoch 60/200\n",
      "6/6 [==============================] - 0s 998us/sample - loss: 4.3653\n",
      "Epoch 61/200\n",
      "6/6 [==============================] - 0s 997us/sample - loss: 2.9653\n",
      "Epoch 62/200\n",
      "6/6 [==============================] - 0s 997us/sample - loss: 2.6882\n",
      "Epoch 63/200\n",
      "6/6 [==============================] - 0s 831us/sample - loss: 3.0164\n",
      "Epoch 64/200\n",
      "6/6 [==============================] - 0s 997us/sample - loss: 2.5612\n",
      "Epoch 65/200\n",
      "6/6 [==============================] - 0s 1ms/sample - loss: 1.9491\n",
      "Epoch 66/200\n",
      "6/6 [==============================] - 0s 997us/sample - loss: 2.0844\n",
      "Epoch 67/200\n",
      "6/6 [==============================] - 0s 1ms/sample - loss: 1.8868\n",
      "Epoch 68/200\n",
      "6/6 [==============================] - 0s 997us/sample - loss: 1.2796\n",
      "Epoch 69/200\n",
      "6/6 [==============================] - 0s 997us/sample - loss: 1.1668\n",
      "Epoch 70/200\n",
      "6/6 [==============================] - 0s 831us/sample - loss: 1.2743\n",
      "Epoch 71/200\n",
      "6/6 [==============================] - 0s 998us/sample - loss: 0.9704\n",
      "Epoch 72/200\n",
      "6/6 [==============================] - 0s 998us/sample - loss: 0.7458\n",
      "Epoch 73/200\n",
      "6/6 [==============================] - 0s 997us/sample - loss: 0.9063\n",
      "Epoch 74/200\n",
      "6/6 [==============================] - 0s 2ms/sample - loss: 0.8941\n",
      "Epoch 75/200\n",
      "6/6 [==============================] - 0s 997us/sample - loss: 0.6259\n",
      "Epoch 76/200\n",
      "6/6 [==============================] - 0s 997us/sample - loss: 0.5849\n",
      "Epoch 77/200\n",
      "6/6 [==============================] - 0s 998us/sample - loss: 0.6167\n",
      "Epoch 78/200\n",
      "6/6 [==============================] - 0s 831us/sample - loss: 0.4047\n",
      "Epoch 79/200\n",
      "6/6 [==============================] - 0s 997us/sample - loss: 0.2698\n",
      "Epoch 80/200\n",
      "6/6 [==============================] - 0s 997us/sample - loss: 0.3364\n",
      "Epoch 81/200\n",
      "6/6 [==============================] - 0s 997us/sample - loss: 0.2996\n",
      "Epoch 82/200\n",
      "6/6 [==============================] - 0s 997us/sample - loss: 0.2073\n",
      "Epoch 83/200\n",
      "6/6 [==============================] - 0s 998us/sample - loss: 0.2645\n",
      "Epoch 84/200\n",
      "6/6 [==============================] - 0s 1ms/sample - loss: 0.2997\n",
      "Epoch 85/200\n",
      "6/6 [==============================] - 0s 997us/sample - loss: 0.2122\n",
      "Epoch 86/200\n",
      "6/6 [==============================] - 0s 1ms/sample - loss: 0.1744\n",
      "Epoch 87/200\n",
      "6/6 [==============================] - 0s 997us/sample - loss: 0.1957\n",
      "Epoch 88/200\n",
      "6/6 [==============================] - 0s 997us/sample - loss: 0.1614\n",
      "Epoch 89/200\n",
      "6/6 [==============================] - 0s 998us/sample - loss: 0.1049\n",
      "Epoch 90/200\n",
      "6/6 [==============================] - 0s 831us/sample - loss: 0.1166\n",
      "Epoch 91/200\n",
      "6/6 [==============================] - 0s 997us/sample - loss: 0.1380\n",
      "Epoch 92/200\n",
      "6/6 [==============================] - 0s 831us/sample - loss: 0.1106\n",
      "Epoch 93/200\n",
      "6/6 [==============================] - 0s 997us/sample - loss: 0.0979\n",
      "Epoch 94/200\n",
      "6/6 [==============================] - 0s 831us/sample - loss: 0.1150\n",
      "Epoch 95/200\n",
      "6/6 [==============================] - 0s 1ms/sample - loss: 0.1007\n",
      "Epoch 96/200\n",
      "6/6 [==============================] - 0s 1ms/sample - loss: 0.0704\n",
      "Epoch 97/200\n",
      "6/6 [==============================] - 0s 1ms/sample - loss: 0.0740\n",
      "Epoch 98/200\n",
      "6/6 [==============================] - 0s 995us/sample - loss: 0.0830\n",
      "Epoch 99/200\n",
      "6/6 [==============================] - 0s 997us/sample - loss: 0.0702\n",
      "Epoch 100/200\n",
      "6/6 [==============================] - 0s 831us/sample - loss: 0.0690\n",
      "Epoch 101/200\n",
      "6/6 [==============================] - 0s 1ms/sample - loss: 0.0799\n",
      "Epoch 102/200\n",
      "6/6 [==============================] - 0s 2ms/sample - loss: 0.0703\n",
      "Epoch 103/200\n",
      "6/6 [==============================] - 0s 1ms/sample - loss: 0.0538\n",
      "Epoch 104/200\n",
      "6/6 [==============================] - 0s 1ms/sample - loss: 0.0534\n",
      "Epoch 105/200\n",
      "6/6 [==============================] - 0s 2ms/sample - loss: 0.0516\n",
      "Epoch 106/200\n",
      "6/6 [==============================] - 0s 2ms/sample - loss: 0.0427\n",
      "Epoch 107/200\n",
      "6/6 [==============================] - 0s 1ms/sample - loss: 0.0455\n",
      "Epoch 108/200\n",
      "6/6 [==============================] - 0s 1ms/sample - loss: 0.0524\n",
      "Epoch 109/200\n",
      "6/6 [==============================] - 0s 998us/sample - loss: 0.0481\n",
      "Epoch 110/200\n",
      "6/6 [==============================] - 0s 831us/sample - loss: 0.0436\n",
      "Epoch 111/200\n",
      "6/6 [==============================] - 0s 997us/sample - loss: 0.0444\n",
      "Epoch 112/200\n",
      "6/6 [==============================] - 0s 997us/sample - loss: 0.0397\n",
      "Epoch 113/200\n",
      "6/6 [==============================] - 0s 997us/sample - loss: 0.0338\n",
      "Epoch 114/200\n",
      "6/6 [==============================] - 0s 997us/sample - loss: 0.0352\n",
      "Epoch 115/200\n",
      "6/6 [==============================] - 0s 1ms/sample - loss: 0.0360\n",
      "Epoch 116/200\n",
      "6/6 [==============================] - 0s 1ms/sample - loss: 0.0329\n",
      "Epoch 117/200\n",
      "6/6 [==============================] - 0s 1ms/sample - loss: 0.0328\n",
      "Epoch 118/200\n",
      "6/6 [==============================] - 0s 1ms/sample - loss: 0.0330\n",
      "Epoch 119/200\n",
      "6/6 [==============================] - 0s 1ms/sample - loss: 0.0295\n",
      "Epoch 120/200\n",
      "6/6 [==============================] - 0s 1ms/sample - loss: 0.0277\n",
      "Epoch 121/200\n",
      "6/6 [==============================] - 0s 1ms/sample - loss: 0.0285\n",
      "Epoch 122/200\n",
      "6/6 [==============================] - 0s 1ms/sample - loss: 0.0273\n",
      "Epoch 123/200\n",
      "6/6 [==============================] - 0s 1ms/sample - loss: 0.0262\n",
      "Epoch 124/200\n",
      "6/6 [==============================] - 0s 1ms/sample - loss: 0.0270\n",
      "Epoch 125/200\n",
      "6/6 [==============================] - 0s 1ms/sample - loss: 0.0261\n",
      "Epoch 126/200\n",
      "6/6 [==============================] - 0s 1ms/sample - loss: 0.0242\n",
      "Epoch 127/200\n",
      "6/6 [==============================] - 0s 1ms/sample - loss: 0.0239\n",
      "Epoch 128/200\n",
      "6/6 [==============================] - 0s 1ms/sample - loss: 0.0233\n",
      "Epoch 129/200\n",
      "6/6 [==============================] - 0s 1ms/sample - loss: 0.0219\n",
      "Epoch 130/200\n",
      "6/6 [==============================] - 0s 2ms/sample - loss: 0.0218\n",
      "Epoch 131/200\n",
      "6/6 [==============================] - 0s 997us/sample - loss: 0.0218\n",
      "Epoch 132/200\n",
      "6/6 [==============================] - 0s 1ms/sample - loss: 0.0209\n",
      "Epoch 133/200\n",
      "6/6 [==============================] - 0s 997us/sample - loss: 0.0206\n",
      "Epoch 134/200\n",
      "6/6 [==============================] - 0s 1ms/sample - loss: 0.0206\n",
      "Epoch 135/200\n",
      "6/6 [==============================] - 0s 1ms/sample - loss: 0.0198\n",
      "Epoch 136/200\n",
      "6/6 [==============================] - 0s 997us/sample - loss: 0.0193\n",
      "Epoch 137/200\n",
      "6/6 [==============================] - 0s 997us/sample - loss: 0.0192\n",
      "Epoch 138/200\n",
      "6/6 [==============================] - 0s 997us/sample - loss: 0.0186\n",
      "Epoch 139/200\n",
      "6/6 [==============================] - 0s 998us/sample - loss: 0.0182\n",
      "Epoch 140/200\n",
      "6/6 [==============================] - 0s 997us/sample - loss: 0.0182\n",
      "Epoch 141/200\n",
      "6/6 [==============================] - 0s 997us/sample - loss: 0.0178\n",
      "Epoch 142/200\n",
      "6/6 [==============================] - 0s 1ms/sample - loss: 0.0174\n",
      "Epoch 143/200\n",
      "6/6 [==============================] - 0s 2ms/sample - loss: 0.0173\n",
      "Epoch 144/200\n",
      "6/6 [==============================] - 0s 1ms/sample - loss: 0.0170\n",
      "Epoch 145/200\n",
      "6/6 [==============================] - 0s 1ms/sample - loss: 0.0166\n",
      "Epoch 146/200\n",
      "6/6 [==============================] - 0s 2ms/sample - loss: 0.0165\n",
      "Epoch 147/200\n",
      "6/6 [==============================] - 0s 2ms/sample - loss: 0.0163\n",
      "Epoch 148/200\n",
      "6/6 [==============================] - 0s 1ms/sample - loss: 0.0160\n",
      "Epoch 149/200\n",
      "6/6 [==============================] - 0s 1ms/sample - loss: 0.0159\n",
      "Epoch 150/200\n",
      "6/6 [==============================] - 0s 1ms/sample - loss: 0.0157\n",
      "Epoch 151/200\n",
      "6/6 [==============================] - 0s 1ms/sample - loss: 0.0153\n",
      "Epoch 152/200\n",
      "6/6 [==============================] - 0s 997us/sample - loss: 0.0152\n",
      "Epoch 153/200\n",
      "6/6 [==============================] - 0s 997us/sample - loss: 0.0150\n",
      "Epoch 154/200\n",
      "6/6 [==============================] - 0s 1ms/sample - loss: 0.0148\n",
      "Epoch 155/200\n",
      "6/6 [==============================] - 0s 997us/sample - loss: 0.0146\n",
      "Epoch 156/200\n",
      "6/6 [==============================] - 0s 2ms/sample - loss: 0.0145\n",
      "Epoch 157/200\n",
      "6/6 [==============================] - 0s 997us/sample - loss: 0.0143\n",
      "Epoch 158/200\n",
      "6/6 [==============================] - 0s 1ms/sample - loss: 0.0141\n",
      "Epoch 159/200\n",
      "6/6 [==============================] - 0s 1ms/sample - loss: 0.0139\n",
      "Epoch 160/200\n",
      "6/6 [==============================] - 0s 1ms/sample - loss: 0.0137\n",
      "Epoch 161/200\n",
      "6/6 [==============================] - 0s 2ms/sample - loss: 0.0136\n",
      "Epoch 162/200\n",
      "6/6 [==============================] - 0s 1ms/sample - loss: 0.0134\n",
      "Epoch 163/200\n",
      "6/6 [==============================] - 0s 1ms/sample - loss: 0.0133\n",
      "Epoch 164/200\n",
      "6/6 [==============================] - 0s 1ms/sample - loss: 0.0131\n",
      "Epoch 165/200\n",
      "6/6 [==============================] - 0s 1ms/sample - loss: 0.0130\n",
      "Epoch 166/200\n",
      "6/6 [==============================] - 0s 1ms/sample - loss: 0.0128\n",
      "Epoch 167/200\n",
      "6/6 [==============================] - 0s 996us/sample - loss: 0.0127\n",
      "Epoch 168/200\n",
      "6/6 [==============================] - 0s 2ms/sample - loss: 0.0125\n",
      "Epoch 169/200\n",
      "6/6 [==============================] - 0s 997us/sample - loss: 0.0124\n",
      "Epoch 170/200\n",
      "6/6 [==============================] - 0s 1ms/sample - loss: 0.0123\n",
      "Epoch 171/200\n",
      "6/6 [==============================] - 0s 1ms/sample - loss: 0.0121\n",
      "Epoch 172/200\n",
      "6/6 [==============================] - 0s 1ms/sample - loss: 0.0120\n",
      "Epoch 173/200\n",
      "6/6 [==============================] - 0s 1ms/sample - loss: 0.0119\n",
      "Epoch 174/200\n",
      "6/6 [==============================] - 0s 1ms/sample - loss: 0.0117\n",
      "Epoch 175/200\n",
      "6/6 [==============================] - 0s 1ms/sample - loss: 0.0116\n",
      "Epoch 176/200\n",
      "6/6 [==============================] - 0s 1ms/sample - loss: 0.0115\n",
      "Epoch 177/200\n",
      "6/6 [==============================] - 0s 1ms/sample - loss: 0.0114\n",
      "Epoch 178/200\n",
      "6/6 [==============================] - 0s 1ms/sample - loss: 0.0113\n",
      "Epoch 179/200\n",
      "6/6 [==============================] - 0s 1ms/sample - loss: 0.0112\n",
      "Epoch 180/200\n",
      "6/6 [==============================] - 0s 997us/sample - loss: 0.0110\n",
      "Epoch 181/200\n",
      "6/6 [==============================] - 0s 2ms/sample - loss: 0.0109\n",
      "Epoch 182/200\n",
      "6/6 [==============================] - 0s 997us/sample - loss: 0.0108\n",
      "Epoch 183/200\n",
      "6/6 [==============================] - 0s 1ms/sample - loss: 0.0107\n",
      "Epoch 184/200\n",
      "6/6 [==============================] - 0s 1ms/sample - loss: 0.0106\n",
      "Epoch 185/200\n",
      "6/6 [==============================] - 0s 1ms/sample - loss: 0.0105\n",
      "Epoch 186/200\n",
      "6/6 [==============================] - 0s 1ms/sample - loss: 0.0104\n",
      "Epoch 187/200\n",
      "6/6 [==============================] - 0s 1ms/sample - loss: 0.0103\n",
      "Epoch 188/200\n",
      "6/6 [==============================] - 0s 1ms/sample - loss: 0.0102\n",
      "Epoch 189/200\n",
      "6/6 [==============================] - 0s 1ms/sample - loss: 0.0101\n",
      "Epoch 190/200\n",
      "6/6 [==============================] - 0s 1ms/sample - loss: 0.0100\n",
      "Epoch 191/200\n",
      "6/6 [==============================] - 0s 1ms/sample - loss: 0.0100\n",
      "Epoch 192/200\n",
      "6/6 [==============================] - 0s 1ms/sample - loss: 0.0099\n",
      "Epoch 193/200\n",
      "6/6 [==============================] - 0s 997us/sample - loss: 0.0098\n",
      "Epoch 194/200\n",
      "6/6 [==============================] - 0s 2ms/sample - loss: 0.0097\n",
      "Epoch 195/200\n",
      "6/6 [==============================] - 0s 1ms/sample - loss: 0.0096\n",
      "Epoch 196/200\n",
      "6/6 [==============================] - 0s 1ms/sample - loss: 0.0095\n",
      "Epoch 197/200\n",
      "6/6 [==============================] - 0s 1ms/sample - loss: 0.0094\n",
      "Epoch 198/200\n",
      "6/6 [==============================] - 0s 1ms/sample - loss: 0.0094\n",
      "Epoch 199/200\n",
      "6/6 [==============================] - 0s 1ms/sample - loss: 0.0093\n",
      "Epoch 200/200\n",
      "6/6 [==============================] - 0s 995us/sample - loss: 0.0092\n"
     ]
    }
   ],
   "source": [
    "history=multiple_input_parallel_series_model.fit(X,y,epochs=200,verbose=1)"
   ]
  },
  {
   "cell_type": "markdown",
   "metadata": {},
   "source": [
    "## Evaluation the model"
   ]
  },
  {
   "cell_type": "code",
   "execution_count": 82,
   "metadata": {},
   "outputs": [
    {
     "name": "stdout",
     "output_type": "stream",
     "text": [
      "(1, 3, 3)\n"
     ]
    },
    {
     "data": {
      "text/plain": [
       "array([[[ 70,  75, 145],\n",
       "        [ 80,  85, 165],\n",
       "        [ 90,  95, 185]]])"
      ]
     },
     "execution_count": 82,
     "metadata": {},
     "output_type": "execute_result"
    }
   ],
   "source": [
    "x_input=np.array([[70,75,145],[80,85, 165],[90,95, 185]])\n",
    "x_input_reshaped=x_input.reshape((1,n_steps,n_features))\n",
    "print(x_input_reshaped.shape)\n",
    "x_input_reshaped"
   ]
  },
  {
   "cell_type": "code",
   "execution_count": 83,
   "metadata": {},
   "outputs": [
    {
     "data": {
      "text/plain": [
       "array([[102.03651, 107.80541, 211.25662]], dtype=float32)"
      ]
     },
     "execution_count": 83,
     "metadata": {},
     "output_type": "execute_result"
    }
   ],
   "source": [
    "y_predicted_multiple_input_parallel_series = multiple_input_parallel_series_model.predict(x_input_reshaped)\n",
    "y_predicted_multiple_input_parallel_series"
   ]
  },
  {
   "cell_type": "code",
   "execution_count": 95,
   "metadata": {},
   "outputs": [
    {
     "name": "stdout",
     "output_type": "stream",
     "text": [
      "Expected: 100 105 205\n"
     ]
    }
   ],
   "source": [
    "print('Expected: %d %d %d' % (x_input[2,0]+10,x_input[2,1]+10,x_input[2,0]+x_input[2,1]+20))"
   ]
  }
 ],
 "metadata": {
  "kernelspec": {
   "display_name": "Python 3.6.13 ('amd-gpu')",
   "language": "python",
   "name": "python3"
  },
  "language_info": {
   "codemirror_mode": {
    "name": "ipython",
    "version": 3
   },
   "file_extension": ".py",
   "mimetype": "text/x-python",
   "name": "python",
   "nbconvert_exporter": "python",
   "pygments_lexer": "ipython3",
   "version": "3.6.13"
  },
  "orig_nbformat": 4,
  "vscode": {
   "interpreter": {
    "hash": "33d92607774db46bb586eddcd7f2bd9e4c59345cf68362d5eaf03b452c1edd65"
   }
  }
 },
 "nbformat": 4,
 "nbformat_minor": 2
}
